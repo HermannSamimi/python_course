{
 "cells": [
  {
   "cell_type": "code",
   "execution_count": 34,
   "metadata": {},
   "outputs": [
    {
     "name": "stdout",
     "output_type": "stream",
     "text": [
      "3599\n",
      "[1400, 1274, 551]\n"
     ]
    }
   ],
   "source": [
    "import random\n",
    "\n",
    "# 1 random value generate\n",
    "\n",
    "x = random.randint(50, 9000)\n",
    "print(x)\n",
    "\n",
    "# multiple random values\n",
    "number = random.sample(range(-90, 2701), 3)\n",
    "print(number)"
   ]
  },
  {
   "cell_type": "markdown",
   "metadata": {},
   "source": [
    "# String"
   ]
  },
  {
   "cell_type": "code",
   "execution_count": 35,
   "metadata": {},
   "outputs": [
    {
     "name": "stdout",
     "output_type": "stream",
     "text": [
      "ArithmeticError\n",
      "ddlkfndkfj\n",
      "sdlhodhf\n",
      "sdljkfnkasjdbf\n",
      "lsjdhfasjhdf\n",
      "\n"
     ]
    }
   ],
   "source": [
    "a = \"my name is \"\n",
    "b = 'my name is not'\n",
    "\n",
    "c = '''ArithmeticError\n",
    "ddlkfndkfj\n",
    "sdlhodhf\n",
    "sdljkfnkasjdbf\n",
    "lsjdhfasjhdf\n",
    "'''\n",
    "\n",
    "print(c)"
   ]
  },
  {
   "cell_type": "markdown",
   "metadata": {},
   "source": [
    "# indexing - mapping"
   ]
  },
  {
   "cell_type": "code",
   "execution_count": null,
   "metadata": {},
   "outputs": [
    {
     "name": "stdout",
     "output_type": "stream",
     "text": [
      "ul\n",
      "ul\n"
     ]
    }
   ],
   "source": [
    "a = \"Python is wonderful\"\n",
    "b = a[17:]\n",
    "c = a[-2:]\n",
    "\n",
    "print(b)\n",
    "print(c)\n",
    "\n",
    "# b = a[2] # to call one character\n",
    "# c = a[-3]\n",
    "# d = a[3:6]\n",
    "# e = a[2:-1]\n",
    "# f = a[::2]  # every second character\n",
    "# g = a[:4]\n",
    "# h = a[3:]\n",
    "\n",
    "# print(h)"
   ]
  },
  {
   "cell_type": "markdown",
   "metadata": {},
   "source": [
    "# len()"
   ]
  },
  {
   "cell_type": "code",
   "execution_count": 11,
   "metadata": {},
   "outputs": [
    {
     "name": "stdout",
     "output_type": "stream",
     "text": [
      "4\n"
     ]
    }
   ],
   "source": [
    "a = \"omid\"\n",
    "\n",
    "b = len(a)\n",
    "\n",
    "print(b)"
   ]
  },
  {
   "cell_type": "code",
   "execution_count": 75,
   "metadata": {},
   "outputs": [
    {
     "name": "stdout",
     "output_type": "stream",
     "text": [
      "world\n"
     ]
    }
   ],
   "source": [
    "txt = \"hello world\"\n",
    "\n",
    "x = txt.split()\n",
    "y = x[-1]\n",
    "\n",
    "print(y)"
   ]
  },
  {
   "cell_type": "code",
   "execution_count": 80,
   "metadata": {},
   "outputs": [
    {
     "name": "stdout",
     "output_type": "stream",
     "text": [
      "<class 'tuple'>\n",
      "<class 'int'> <class 'int'> <class 'float'>\n"
     ]
    }
   ],
   "source": [
    "a = \"my fav col is pink\"\n",
    "b = 359\n",
    "c = 4.5\n",
    "d = -4.5\n",
    "a = [2,4,6]\n",
    "a = (6.9, 4.7, \"hello\")  #tuple\n",
    "\n",
    "i_want_the_data_type = type(a)\n",
    "\n",
    "print(i_want_the_data_type)\n",
    "\n",
    "omid_var = \"his name\"\n",
    "a = len(omid_var)\n",
    "\n",
    "print(type(a), type(b), type(c))"
   ]
  },
  {
   "cell_type": "markdown",
   "metadata": {},
   "source": [
    "# Escape characters"
   ]
  },
  {
   "cell_type": "code",
   "execution_count": 95,
   "metadata": {},
   "outputs": [
    {
     "name": "stdout",
     "output_type": "stream",
     "text": [
      "i't blue\n",
      "my name is herman and \ti have very nice students\n"
     ]
    }
   ],
   "source": [
    "# \\'\n",
    "a = 'it\\'s is my book'\n",
    "a = \"it\\\"s my book\"\n",
    "\n",
    "b = 'i\\'t blue'\n",
    "print(b)\n",
    "\n",
    "\n",
    "a = \"tha's mine\"\n",
    "# b = 'that's yours\"\n",
    "\n",
    "\n",
    "# \\n\n",
    "f = \"my name is herman and \\ti have very nice students\"\n",
    "\n",
    "print(f)"
   ]
  },
  {
   "cell_type": "code",
   "execution_count": 124,
   "metadata": {},
   "outputs": [
    {
     "name": "stdout",
     "output_type": "stream",
     "text": [
      "Team Fox: ['nida', 'fateme']\n",
      "Team Wolf: ['ceren', 'nura']\n",
      "Team Tiger: ['mahshid', 'ayda']\n",
      "Team Lion: ['hasti', 'helia']\n",
      "Team Eagle: ['omid', 'anna']\n"
     ]
    }
   ],
   "source": [
    "import random\n",
    "import math\n",
    "\n",
    "def auto_gp(students, batch):\n",
    "    group_names = [\"Lion\", \"Falcon\", \"Cobra\", \"Tiger\", \"Eagle\", \"Shark\", \"Raven\", \"Fox\", \"Wolf\"]\n",
    "    random.shuffle(group_names)\n",
    "    random.shuffle(students)\n",
    "    group_size = math.ceil(len(students) / batch)\n",
    "\n",
    "    groups = [students[i:i+group_size] for i in range(0, len(students), group_size)]\n",
    "\n",
    "    for i, group in enumerate(groups):\n",
    "        group_name = group_names[i % len(group_names)]\n",
    "        print(f\"Team {group_name}: {group}\")\n",
    "\n",
    "\n",
    "\n",
    "students = ['omid', 'hasti', 'helia','mahshid','ayda','fateme','nura','nida','ceren','anna']      #set the student names here\n",
    "batch = 5       #set the number of groups here\n",
    "\n",
    "auto_gp(students, batch)"
   ]
  },
  {
   "cell_type": "code",
   "execution_count": null,
   "metadata": {},
   "outputs": [
    {
     "name": "stdout",
     "output_type": "stream",
     "text": [
      "Hermann\n"
     ]
    }
   ],
   "source": [
    "# capitalze()\n",
    "a = \"hermann\"\n",
    "b = a.capitalize()\n",
    "\n",
    "print(b)"
   ]
  },
  {
   "cell_type": "code",
   "execution_count": 129,
   "metadata": {},
   "outputs": [
    {
     "name": "stdout",
     "output_type": "stream",
     "text": [
      "hermann\n"
     ]
    }
   ],
   "source": [
    "# casefold()\n",
    "\n",
    "a = \"HerMann\"\n",
    "b = a.casefold()\n",
    "\n",
    "print(b)\n",
    "\n",
    "\n"
   ]
  },
  {
   "cell_type": "code",
   "execution_count": 131,
   "metadata": {},
   "outputs": [
    {
     "name": "stdout",
     "output_type": "stream",
     "text": [
      "2\n"
     ]
    }
   ],
   "source": [
    "# count()\n",
    "\n",
    "a = \"anna\"\n",
    "b = a.count(\"a\")\n",
    "\n",
    "print(b)"
   ]
  },
  {
   "cell_type": "code",
   "execution_count": 135,
   "metadata": {},
   "outputs": [
    {
     "name": "stdout",
     "output_type": "stream",
     "text": [
      "True\n"
     ]
    }
   ],
   "source": [
    "# endswith()\n",
    "\n",
    "a = \"hermann\"\n",
    "b = a.endswith(\"n\")\n",
    "\n",
    "print(b)"
   ]
  },
  {
   "cell_type": "code",
   "execution_count": 7,
   "metadata": {},
   "outputs": [
    {
     "name": "stdout",
     "output_type": "stream",
     "text": [
      "h  e  rma   n  n\n"
     ]
    }
   ],
   "source": [
    "# expandtabs()\n",
    "# \\t \n",
    "\n",
    "a = \"h\\te\\trma\\tn\\tn\"\n",
    "b = a.expandtabs(3)\n",
    "\n",
    "print(b)"
   ]
  },
  {
   "cell_type": "code",
   "execution_count": 8,
   "metadata": {},
   "outputs": [
    {
     "name": "stdout",
     "output_type": "stream",
     "text": [
      "6\n"
     ]
    }
   ],
   "source": [
    "a = \"today is a good day\"\n",
    "b = a.find(\"is\")\n",
    "\n",
    "print(b)"
   ]
  },
  {
   "cell_type": "code",
   "execution_count": 9,
   "metadata": {},
   "outputs": [
    {
     "name": "stdout",
     "output_type": "stream",
     "text": [
      "John's last name is Wick\n"
     ]
    }
   ],
   "source": [
    "# format_map\n",
    "a = {'x':'John', 'y':'Wick'} \n",
    "\n",
    "# Use of format_map() function \n",
    "print(\"{x}'s last name is {y}\".format_map(a))\n"
   ]
  },
  {
   "cell_type": "code",
   "execution_count": 16,
   "metadata": {},
   "outputs": [
    {
     "name": "stdout",
     "output_type": "stream",
     "text": [
      "2\n"
     ]
    }
   ],
   "source": [
    "# index()\n",
    "\n",
    "a = \"hermann\"\n",
    "b = ['red', 'green', 'blue']\n",
    "\n",
    "c = b.index(\"blue\")\n",
    "\n",
    "print(c)"
   ]
  },
  {
   "cell_type": "code",
   "execution_count": 21,
   "metadata": {},
   "outputs": [
    {
     "name": "stdout",
     "output_type": "stream",
     "text": [
      "False\n"
     ]
    }
   ],
   "source": [
    "# isalnum()\n",
    "# isalpha()\n",
    "\n",
    "a = \"hermann3\"\n",
    "\n",
    "b = a.isalnum()\n",
    "c = a.isalpha()\n",
    "\n",
    "print(a)"
   ]
  },
  {
   "cell_type": "code",
   "execution_count": 40,
   "metadata": {},
   "outputs": [
    {
     "name": "stdout",
     "output_type": "stream",
     "text": [
      "True\n"
     ]
    }
   ],
   "source": [
    "# isdecimal()\n",
    "\n",
    "a = \"56\"\n",
    "# b = a.isdecimal()\n",
    "# c = a.isdigit()\n",
    "d = a.isnumeric()\n",
    "# print(b)\n",
    "# print(c)\n",
    "print(d)"
   ]
  },
  {
   "cell_type": "code",
   "execution_count": 46,
   "metadata": {},
   "outputs": [
    {
     "name": "stdout",
     "output_type": "stream",
     "text": [
      "True\n",
      "False\n"
     ]
    }
   ],
   "source": [
    "# islower()\n",
    "a = \"hermann\"\n",
    "b = a.islower()\n",
    "print(b)\n",
    "\n",
    "\n",
    "# isupper()\n",
    "a = \"HERMANN\"\n",
    "b = a.isupper() \n",
    "print(b)"
   ]
  },
  {
   "cell_type": "code",
   "execution_count": 53,
   "metadata": {},
   "outputs": [
    {
     "name": "stdout",
     "output_type": "stream",
     "text": [
      "True\n",
      "True\n"
     ]
    }
   ],
   "source": [
    "# isspace()\n",
    "a = \" \"\n",
    "b = a.isspace()\n",
    "print(b)\n",
    "\n",
    "\n",
    "\n",
    "# istitle()\n",
    "a = \"Hello World\"\n",
    "b = a.istitle()\n",
    "print(b)"
   ]
  },
  {
   "cell_type": "code",
   "execution_count": 56,
   "metadata": {},
   "outputs": [
    {
     "name": "stdout",
     "output_type": "stream",
     "text": [
      "hello*world\n"
     ]
    }
   ],
   "source": [
    "# join() \n",
    "a = \"*\"\n",
    "b = [\"hello\", \"world\"]\n",
    "# d = \"hermann\"\n",
    "\n",
    "c = a.join(b)\n",
    "# r = a.join(d)\n",
    "print(c)\n",
    "# print(r)\n",
    "\n",
    "\n",
    "a = \"partner name\"\n",
    "b = \"_\"\n",
    "c = a.join(b)"
   ]
  },
  {
   "cell_type": "code",
   "execution_count": 67,
   "metadata": {},
   "outputs": [
    {
     "name": "stdout",
     "output_type": "stream",
     "text": [
      "13\n",
      "11\n",
      "mahshid   \n",
      "mahshid\n",
      "7\n",
      "modified name is mahshid\n"
     ]
    }
   ],
   "source": [
    "# ETL extract, transform, load \n",
    "\n",
    "# ljust()\n",
    "# a = \"93842346\"\n",
    "# e = print(f\"the lent of a is {len(a)}\")\n",
    "# b = a.just(50, \"X\")\n",
    "# f = print(f\"the lent of b is {len(b)}\")\n",
    "# print(b)\n",
    "\n",
    "# lstrip()\n",
    "# a = \"   hermann\"\n",
    "# print(a)\n",
    "# al = print(len(a))\n",
    "# b = a.lstrip()\n",
    "# bl = print(len(b))\n",
    "# print(b)\n",
    "\n",
    "\n",
    "# a = \"hermann   \"\n",
    "# # rstrip()\n",
    "# b = a.rstrip()\n",
    "# print(b)\n",
    "\n",
    "\n",
    "\n",
    "\n",
    "lname = \"   mahshid   \"\n",
    "print(len(lname))\n",
    "rname  = \"mahshid    \"\n",
    "print(len(rname))\n",
    "print(lname.lstrip())\n",
    "print(rname.rstrip())\n",
    "print(len(\"mahshid\"))\n",
    "justified = (lname.lstrip()).rstrip()\n",
    "\n",
    "print(f\"modified name is {justified}\")\n",
    "\n",
    "\n",
    "# # strip()\n",
    "# a = \"   hermann   \"\n",
    "# b = a.strip()\n",
    "# print(b)"
   ]
  },
  {
   "cell_type": "code",
   "execution_count": 69,
   "metadata": {},
   "outputs": [
    {
     "name": "stdout",
     "output_type": "stream",
     "text": [
      "('today', ' ', 'is a good day')\n"
     ]
    }
   ],
   "source": [
    "# partition()\n",
    "a = \"today is a good day\"\n",
    "b = a.partition(\" \")\n",
    "print(b)"
   ]
  },
  {
   "cell_type": "code",
   "execution_count": 71,
   "metadata": {},
   "outputs": [
    {
     "name": "stdout",
     "output_type": "stream",
     "text": [
      "6\n"
     ]
    }
   ],
   "source": [
    "# rfind()\n",
    "a = \"hermann\"\n",
    "b = a.rfind(\"n\")\n",
    "print(b)"
   ]
  },
  {
   "cell_type": "code",
   "execution_count": 75,
   "metadata": {},
   "outputs": [
    {
     "name": "stdout",
     "output_type": "stream",
     "text": [
      "['ma', 'hs', 'hi', 'd']\n",
      "['he', 'ma', 'nn']\n",
      "['my', 'name', 'is', 'hermann', 'hati', 'omid']\n"
     ]
    }
   ],
   "source": [
    "# split()\n",
    "a = \"hermarnn\"\n",
    "c = \"my name is hermann hati omid\"\n",
    "f = \"ma_hs_hi_d\"\n",
    "r = f.split(\"_\")\n",
    "print(r)\n",
    "\n",
    "b = a.split(\"r\")\n",
    "r = c.split(\" \")\n",
    "print(b)\n",
    "print(r)"
   ]
  },
  {
   "cell_type": "code",
   "execution_count": 77,
   "metadata": {},
   "outputs": [
    {
     "name": "stdout",
     "output_type": "stream",
     "text": [
      "False\n"
     ]
    }
   ],
   "source": [
    "# startswith() \n",
    "a = \"hermann\"\n",
    "b = a.startswith(\"r\")\n",
    "print(b)"
   ]
  },
  {
   "cell_type": "code",
   "execution_count": 79,
   "metadata": {},
   "outputs": [
    {
     "name": "stdout",
     "output_type": "stream",
     "text": [
      "13\n",
      "7\n",
      "hermann\n"
     ]
    }
   ],
   "source": [
    "# strip()\n",
    "a = \"   hermann   \"\n",
    "print(len(a))\n",
    "b = a.strip()\n",
    "print(len(b))\n",
    "print(b)"
   ]
  },
  {
   "cell_type": "code",
   "execution_count": 80,
   "metadata": {},
   "outputs": [
    {
     "name": "stdout",
     "output_type": "stream",
     "text": [
      "Hello World\n"
     ]
    }
   ],
   "source": [
    "# title()\n",
    "a = \"hello world\"\n",
    "b = a.title()\n",
    "print(b)"
   ]
  },
  {
   "cell_type": "code",
   "execution_count": 81,
   "metadata": {},
   "outputs": [
    {
     "name": "stdout",
     "output_type": "stream",
     "text": [
      "HELLO WORLD\n"
     ]
    }
   ],
   "source": [
    "# upper()\n",
    "a = \"hello world\"\n",
    "b = a.upper()\n",
    "print(b)"
   ]
  },
  {
   "cell_type": "code",
   "execution_count": 30,
   "metadata": {},
   "outputs": [
    {
     "name": "stdout",
     "output_type": "stream",
     "text": [
      "0005\n"
     ]
    }
   ],
   "source": [
    "# zfill()\n",
    "a = \"5\"\n",
    "b = a.zfill(4)\n",
    "print(b)"
   ]
  },
  {
   "cell_type": "markdown",
   "metadata": {},
   "source": [
    "## team-up\n",
    "- nida - ceren\n",
    "- hasti - helia\n",
    "- ayda - fateme\n",
    "- omid - anna\n",
    "- nura - mahshid"
   ]
  },
  {
   "cell_type": "code",
   "execution_count": 135,
   "metadata": {},
   "outputs": [
    {
     "name": "stdout",
     "output_type": "stream",
     "text": [
      "0 a\n",
      "1 b\n",
      "2 c\n",
      "3 d\n",
      "4 e\n",
      "5 f\n"
     ]
    }
   ],
   "source": [
    "a = [\"a\", \"b\", \"c\", \"d\", \"e\", \"f\"]\n",
    "\n",
    "for i, j in enumerate(a):\n",
    "    print(i, j)"
   ]
  },
  {
   "cell_type": "code",
   "execution_count": 138,
   "metadata": {},
   "outputs": [
    {
     "name": "stdout",
     "output_type": "stream",
     "text": [
      "-10\n",
      "-8\n",
      "-6\n",
      "-4\n",
      "-2\n",
      "0\n",
      "2\n",
      "4\n",
      "6\n",
      "8\n"
     ]
    }
   ],
   "source": [
    "for i in range(-10, 10, 2):\n",
    "    print (i)"
   ]
  },
  {
   "cell_type": "markdown",
   "metadata": {},
   "source": [
    "## String Methods\n",
    "\n",
    "> **Method Description**\n",
    "\n",
    "1. **capitalize()** – Converts the first character to upper case  \n",
    "2. **casefold()** – Converts string into lower case  \n",
    "3. ~~**center()** – Returns a centered string~~\n",
    "4. **count()** – Returns the number of times a specified value occurs in a string  \n",
    "5. ~~**encode()** – Returns an encoded version of the string~~\n",
    "6. **endswith()** – Returns true if the string ends with the specified value  \n",
    "7. **expandtabs()** – Sets the tab size of the string  \n",
    "8. **find()** – Searches the string for a specified value and returns the position of where it was found  \n",
    "9. **format()** – Formats specified values in a string  \n",
    "10. **format_map()** – Formats specified values in a string  \n",
    "11. **index()** – Searches the string for a specified value and returns the position of where it was found  \n",
    "12. **isalnum()** – Returns True if all characters in the string are alphanumeric  \n",
    "13. **isalpha()** – Returns True if all characters in the string are in the alphabet  \n",
    "14. **isascii()** – Returns True if all characters in the string are ASCII characters  \n",
    "15. **isdecimal()** – Returns True if all characters in the string are decimals  \n",
    "16. **isdigit()** – Returns True if all characters in the string are digits  \n",
    "17. ~~**isidentifier()** – Returns True if the string is an identifier~~\n",
    "18. **islower()** – Returns True if all characters in the string are lower case  \n",
    "19. **isnumeric()** – Returns True if all characters in the string are numeric  \n",
    "20. **isprintable()** – Returns True if all characters in the string are printable  \n",
    "21. **isspace()** – Returns True if all characters in the string are whitespaces  \n",
    "22. **istitle()** – Returns True if the string follows the rules of a title  \n",
    "23. **isupper()** – Returns True if all characters in the string are upper case  \n",
    "24. **join()** – Joins the elements of an iterable to the end of the string  \n",
    "25. **ljust()** – Returns a left justified version of the string  \n",
    "26. **lower()** – Converts a string into lower case  \n",
    "27. **lstrip()** – Returns a left-trimmed version of the string  \n",
    "28. ~~ **maketrans()** – Returns a translation table to be used in translations ~~\n",
    "29. **partition()** – Returns a tuple where the string is parted into three parts  \n",
    "30. **replace()** – Returns a string where a specified value is replaced with a specified value  \n",
    "31. **rfind()** – Searches the string for a specified value and returns the last position where it was found  \n",
    "32. **rindex()** – Searches the string for a specified value and returns the last position where it was found  \n",
    "33. **rjust()** – Returns a right justified version of the string  \n",
    "34. **rpartition()** – Returns a tuple where the string is parted into three parts  \n",
    "35. **rsplit()** – Splits the string at the specified separator and returns a list  \n",
    "36. **rstrip()** – Returns a right-trimmed version of the string  \n",
    "37. **split()** – Splits the string at the specified separator and returns a list  \n",
    "38. **splitlines()** – Splits the string at line breaks and returns a list  \n",
    "39. **startswith()** – Returns true if the string starts with the specified value  \n",
    "40. **strip()** – Returns a trimmed version of the string  \n",
    "41. **swapcase()** – Swaps cases, lower case becomes upper case and vice versa  \n",
    "42. **title()** – Converts the first character of each word to upper case  \n",
    "43. **translate()** – Returns a translated string  \n",
    "44. **upper()** – Converts a string into upper case  \n",
    "45. **zfill()** – Fills the string with a specified number of 0 values at the beginning  "
   ]
  },
  {
   "cell_type": "markdown",
   "metadata": {},
   "source": [
    "# if else elif\n",
    "\n",
    "a == b equal\n",
    "a != b not eqaul\n",
    "a < b less than\n",
    "a <= b less than and equal\n",
    "a > b greater than\n",
    "a >= b greater and equal\n",
    "\n",
    "\n",
    "\n",
    ">\n"
   ]
  },
  {
   "cell_type": "code",
   "execution_count": null,
   "metadata": {},
   "outputs": [
    {
     "name": "stdout",
     "output_type": "stream",
     "text": [
      "a is greater than b\n"
     ]
    }
   ],
   "source": [
    "a = 300\n",
    "b = 200\n",
    "\n",
    "if a > b:\n",
    "    print(\"a is greater than b\")\n",
    "\n",
    "\n",
    "\n",
    "x = 5\n",
    "y = 7\n",
    "\n",
    "y > x\n",
    "\"y is greater than y\""
   ]
  },
  {
   "cell_type": "code",
   "execution_count": 17,
   "metadata": {},
   "outputs": [
    {
     "name": "stdout",
     "output_type": "stream",
     "text": [
      "the number of cars in parking is 30023 .\n"
     ]
    }
   ],
   "source": [
    "# f string\n",
    "cars = 30023\n",
    "\n",
    "# the number of cars in parking is ... \n",
    "\n",
    "print(f\"the number of cars in parking is {cars} .\" )"
   ]
  },
  {
   "cell_type": "code",
   "execution_count": 24,
   "metadata": {},
   "outputs": [
    {
     "name": "stdout",
     "output_type": "stream",
     "text": [
      "Sorry, only 5 Laptop(s) available. Please reduce your order.\n"
     ]
    }
   ],
   "source": [
    "# ages\n",
    "hermann = 40\n",
    "mahshid = 17\n",
    "omid = 24\n",
    "ayda = 8\n",
    "nida = 11\n",
    "\n",
    "# if hermann is older than ayda print(\"hermann is older than ayda\")\n",
    "# if mahshid is younger than nida( print nida is older than mahshid) - print( nida is younger than mahshid)\n",
    "\n",
    "# step 1 : compare mahshid and nida's age\n",
    "# step 2 = print nida is older than mahshid\n",
    "# step 3 = print nida is younger than mahshid\n",
    "\n",
    "product = \"Laptop\"\n",
    "stock = 5\n",
    "order_quantity = 30\n",
    "\n",
    "# order_quantity <= stock: print(f\"Order confirmed: {order_quantity} {product}(s) will be shipped.\")\n",
    "# print(f\"Sorry, only {stock} {product}(s) available. Please reduce your order.\")\n",
    "\n",
    "if order_quantity <= stock:\n",
    "    print(f\"Order confirmed: {order_quantity} {product}(s) will be shipped.\")\n",
    "else:\n",
    "    print(f\"Sorry, only {stock} {product}(s) available. Please reduce your order.\")"
   ]
  },
  {
   "cell_type": "code",
   "execution_count": null,
   "metadata": {},
   "outputs": [
    {
     "name": "stdout",
     "output_type": "stream",
     "text": [
      "Welcome here\n"
     ]
    }
   ],
   "source": [
    "ent_sensor = True\n",
    "\n",
    "a = \"Welcome here\"\n",
    "\n",
    "if ent_sensor == True:\n"
   ]
  },
  {
   "cell_type": "code",
   "execution_count": null,
   "metadata": {},
   "outputs": [],
   "source": [
    "student = 'Omid'\n",
    "score = 72\n",
    "passing_score = 60\n",
    "\n",
    "# congrats, you pass the exam with score ...\n",
    "# sorry, try again, you failed. your score is ...."
   ]
  },
  {
   "cell_type": "code",
   "execution_count": 29,
   "metadata": {},
   "outputs": [
    {
     "name": "stdout",
     "output_type": "stream",
     "text": [
      "you failed. ypur score is 30\n"
     ]
    }
   ],
   "source": [
    "my_score = input(\"please submit your score: \")\n",
    "passing_score = 50\n",
    "\n",
    "if int(my_score) >= passing_score:\n",
    "    print(f\"you pass the examp with score {my_score}\")\n",
    "else:\n",
    "    print(f\"you failed. ypur score is {my_score}\")"
   ]
  },
  {
   "cell_type": "code",
   "execution_count": null,
   "metadata": {},
   "outputs": [],
   "source": []
  },
  {
   "cell_type": "code",
   "execution_count": null,
   "metadata": {},
   "outputs": [
    {
     "name": "stdout",
     "output_type": "stream",
     "text": [
      "The grade is A, but the language must br English\n"
     ]
    }
   ],
   "source": [
    "# if --> elif --> else\n",
    "# 0 - 60 --> grade c\n",
    "# 60 - 95 --> grade B\n",
    "# 95 - 100 --> grade A\n",
    "\n",
    "\n",
    "language = \"English\"\n",
    "score = 98\n",
    "\n",
    "if score <= 60:\n",
    "    print(\"The grade is D\")\n",
    "elif score > 60 and score <= 95:\n",
    "    print(\"The grade is B\")\n",
    "elif score > 95 or language == \"German\":\n",
    "    print(f\"The grade is A, but the language must be {language}\")"
   ]
  },
  {
   "cell_type": "code",
   "execution_count": null,
   "metadata": {},
   "outputs": [],
   "source": [
    "\n",
    "weather = \"rainy\"\n",
    "mood = \"tired\"\n",
    "\n",
    "if weather == \"sunny\" and mood == \"happy\":\n",
    "    print(\"Great day for a walk!\")\n",
    "elif weather == \"rainy\" or mood == \"tired\":\n",
    "    print(\"Better to stay indoors and relax.\")\n",
    "else:\n",
    "    print(\"Do whatever feels right!\")"
   ]
  },
  {
   "cell_type": "code",
   "execution_count": 49,
   "metadata": {},
   "outputs": [
    {
     "name": "stdout",
     "output_type": "stream",
     "text": [
      "you pass the examp with score 98 and  English language\n"
     ]
    }
   ],
   "source": [
    "passing_score = 50\n",
    "\n",
    "\n",
    "language = \"English\"\n",
    "score = 98\n",
    "\n",
    "if score >= passing_score:\n",
    "    if language == \"English\":\n",
    "        print(f\"you pass the examp with score {score} and  {language} language\")"
   ]
  },
  {
   "cell_type": "code",
   "execution_count": null,
   "metadata": {},
   "outputs": [],
   "source": [
    "subject = \"Math\"\n",
    "score = 72\n",
    "passing_score = 60\n",
    "\n",
    "# Expected behavior:\n",
    "# \t•\tIf score is 60 or more and subject is \"Math\", print: (if)\n",
    "# \"You passed Math with a score of 72!\"\n",
    "# \t•\tIf score is 60 or more and subject is \"Science\", print: (elif)\n",
    "# \"Well done in Science!\"\n",
    "# \t•\tOtherwise, print: \"You did not pass.\" (else)"
   ]
  },
  {
   "cell_type": "code",
   "execution_count": null,
   "metadata": {},
   "outputs": [],
   "source": [
    "# in\n",
    "\n",
    "\n",
    "a  = [\"tallinn\", \"berlin\", \"tartu\"]\n",
    "\n",
    "if \"tallinn\" in a:\n",
    "    print('Tallinn is in my list')"
   ]
  },
  {
   "cell_type": "code",
   "execution_count": 59,
   "metadata": {},
   "outputs": [
    {
     "name": "stdout",
     "output_type": "stream",
     "text": [
      "unknown entry\n"
     ]
    }
   ],
   "source": [
    "destination = \"Germany\"\n",
    "date_to_travel = 4\n",
    "ticket_price = 190\n",
    "\n",
    "# more than 1 month = %20\n",
    "# less than 1 month and more than 7 days %10\n",
    "# less than 7 days %5\n",
    "\n",
    "# check the price more than 1 month, in 25 days and 4 days \n",
    "\n",
    "if destination == \"spain\" and date_to_travel > 30:\n",
    "    print(f'the price with %20 discount is {190 * 0.8}')\n",
    "elif destination == \"spain\" and date_to_travel < 30  and date_to_travel > 7:\n",
    "    print(f\"the price with %10 discount is {190 * 0.9}\")\n",
    "elif destination == 'spain' and date_to_travel < 7:\n",
    "    print(f'the price with 5% discount is {190 * 0.95}')\n",
    "else:\n",
    "    print('unknown entry')"
   ]
  },
  {
   "cell_type": "code",
   "execution_count": null,
   "metadata": {},
   "outputs": [
    {
     "name": "stdout",
     "output_type": "stream",
     "text": [
      "There is no discount for this country at the moment\n"
     ]
    }
   ],
   "source": [
    "country = [\"spain\", \"Japan\", \"Italy\"] #--> %20\n",
    "city = [\"madrid\", 'barcelona', 'ozaka'] #--> additional %10\n",
    "\n",
    "mycountry = input(\"Which country would you like to go? \")\n",
    "mycity = input(\"Which city would you like to go? \")\n",
    "\n",
    "ticket_price = 400\n",
    "\n",
    "if mycountry not in country:\n",
    "    if mycity in city:\n",
    "        print(f\"th price is {400 * 0.7}\")\n",
    "    else: \n",
    "        print(f\"the price is {400 * 0.8}\")\n",
    "else: \n",
    "    print(\"There is no discount for this country at the moment\")\n",
    "\n"
   ]
  },
  {
   "cell_type": "code",
   "execution_count": 3,
   "metadata": {},
   "outputs": [
    {
     "name": "stdout",
     "output_type": "stream",
     "text": [
      "1\n",
      "2\n",
      "3\n",
      "4\n",
      "5\n"
     ]
    }
   ],
   "source": [
    "i = 1\n",
    "while i <= 5:\n",
    "    print(i)\n",
    "    i += 1\n"
   ]
  },
  {
   "cell_type": "code",
   "execution_count": 4,
   "metadata": {},
   "outputs": [
    {
     "name": "stdout",
     "output_type": "stream",
     "text": [
      "Access granted ✅\n"
     ]
    }
   ],
   "source": [
    "password = \"\"\n",
    "while password != \"1234\":\n",
    "    password = input(\"Enter password: \")\n",
    "\n",
    "print(\"Access granted ✅\")"
   ]
  },
  {
   "cell_type": "code",
   "execution_count": 8,
   "metadata": {},
   "outputs": [
    {
     "name": "stdout",
     "output_type": "stream",
     "text": [
      "5\n",
      "4\n",
      "3\n",
      "2\n",
      "1\n",
      "Blast off! 🚀\n"
     ]
    }
   ],
   "source": [
    "from time import sleep\n",
    "n = 5\n",
    "while n > 0:\n",
    "    print(n)\n",
    "    n -= 1\n",
    "    sleep(1)\n",
    "print(\"Blast off! 🚀\")"
   ]
  },
  {
   "cell_type": "code",
   "execution_count": 12,
   "metadata": {},
   "outputs": [
    {
     "ename": "TypeError",
     "evalue": "'int' object is not iterable",
     "output_type": "error",
     "traceback": [
      "\u001b[31m---------------------------------------------------------------------------\u001b[39m",
      "\u001b[31mTypeError\u001b[39m                                 Traceback (most recent call last)",
      "\u001b[36mCell\u001b[39m\u001b[36m \u001b[39m\u001b[32mIn[12]\u001b[39m\u001b[32m, line 2\u001b[39m\n\u001b[32m      1\u001b[39m x = \u001b[32m5\u001b[39m\n\u001b[32m----> \u001b[39m\u001b[32m2\u001b[39m \u001b[38;5;28;43;01mfor\u001b[39;49;00m\u001b[43m \u001b[49m\u001b[43mi\u001b[49m\u001b[43m \u001b[49m\u001b[38;5;129;43;01min\u001b[39;49;00m\u001b[43m \u001b[49m\u001b[43mx\u001b[49m\u001b[43m:\u001b[49m\n\u001b[32m      3\u001b[39m \u001b[43m    \u001b[49m\u001b[38;5;28;43mprint\u001b[39;49m\u001b[43m(\u001b[49m\u001b[43mi\u001b[49m\u001b[43m)\u001b[49m\n",
      "\u001b[31mTypeError\u001b[39m: 'int' object is not iterable"
     ]
    }
   ],
   "source": [
    "x = 5\n",
    "for i in x:\n",
    "    print(i)"
   ]
  },
  {
   "cell_type": "code",
   "execution_count": null,
   "metadata": {},
   "outputs": [
    {
     "name": "stdout",
     "output_type": "stream",
     "text": [
      "apple\n",
      "kiwi\n",
      "banana\n",
      "pear is in the list\n",
      "avocado\n"
     ]
    }
   ],
   "source": [
    "fruits = [\"apple\", \"kiwi\", \"banana\", \"pear\", \"avocado\"]\n",
    "\n",
    "for ayda in fruits:\n",
    "    if ayda  == \"pear\":\n",
    "        print(\"pear is in the list\")\n",
    "    else:\n",
    "        print(f\"{i}\")\n",
    "\n",
    "\n",
    "\n",
    "ayda = apple\n",
    "ayda = kiwi\n"
   ]
  },
  {
   "cell_type": "code",
   "execution_count": null,
   "metadata": {},
   "outputs": [
    {
     "name": "stdout",
     "output_type": "stream",
     "text": [
      "index is 0 and value is 22\n",
      "index is 1 and value is 27\n",
      "index is 2 and value is 31\n",
      "index is 3 and value is 19\n",
      "index is 4 and value is 35\n",
      "index is 5 and value is 29\n",
      "index is 6 and value is 33\n"
     ]
    }
   ],
   "source": [
    "temperatures = [22, 27, 31, 19, 35, 29, 33]   # °C for each day\n",
    "\n",
    "\n",
    "# print(temperatures[0])\n",
    "\n",
    "# for temps in temperatures:\n",
    "#     if temps > 30:\n",
    "#         print(f\"the temp is {temps}. It's a hot day\")\n",
    "#     else:\n",
    "#         print(f\"the temp is {temps}. It's a nice day\")\n",
    "\n",
    "\n",
    "for i,j in enumerate(temperatures):\n",
    "    print(f\"index is {i} and valuez is {j}\")"
   ]
  },
  {
   "cell_type": "code",
   "execution_count": 36,
   "metadata": {},
   "outputs": [
    {
     "name": "stdout",
     "output_type": "stream",
     "text": [
      "['apple', 'kiwi', 'banana', 'pear', 'avocado']\n",
      "strawberry is added to the list\n",
      "['strawberry', 'apple', 'kiwi', 'banana', 'pear', 'avocado']\n"
     ]
    }
   ],
   "source": [
    "fruit_list =  [ \"apple\", \"kiwi\", \"banana\", \"pear\", \"avocado\"]\n",
    "fruit = \"strawberry\"\n",
    "\n",
    "def fruit_checker(fruit_list, fruit):\n",
    "    print(fruit_list)\n",
    "    if fruit in fruit_list:\n",
    "        print(f\"the {fruit} is in the list\")\n",
    "    else:\n",
    "        fruit_list.insert(0, fruit)\n",
    "        print(f\"{fruit} is added to the list\")\n",
    "    print(fruit_list)\n",
    "\n",
    "fruit_checker(fruit_list, fruit)\n"
   ]
  },
  {
   "cell_type": "markdown",
   "metadata": {},
   "source": [
    "# ===================================================="
   ]
  },
  {
   "cell_type": "markdown",
   "metadata": {},
   "source": [
    "# list\n",
    "# while"
   ]
  },
  {
   "cell_type": "code",
   "execution_count": 10,
   "metadata": {},
   "outputs": [
    {
     "name": "stdout",
     "output_type": "stream",
     "text": [
      "*\n",
      "-\n",
      "--\n",
      "---\n",
      "----\n",
      "-----\n",
      "------\n",
      "-------\n",
      "--------\n",
      "---------\n",
      "**\n",
      "--\n",
      "---\n",
      "----\n",
      "-----\n",
      "------\n",
      "-------\n",
      "--------\n",
      "---------\n",
      "***\n",
      "---\n",
      "----\n",
      "-----\n",
      "------\n",
      "-------\n",
      "--------\n",
      "---------\n",
      "****\n",
      "----\n",
      "-----\n",
      "------\n",
      "-------\n",
      "--------\n",
      "---------\n",
      "*****\n",
      "-----\n",
      "------\n",
      "-------\n",
      "--------\n",
      "---------\n",
      "******\n",
      "------\n",
      "-------\n",
      "--------\n",
      "---------\n",
      "*******\n",
      "-------\n",
      "--------\n",
      "---------\n",
      "********\n",
      "--------\n",
      "---------\n",
      "*********\n",
      "---------\n",
      "**********\n"
     ]
    }
   ],
   "source": [
    "a = [1, 2, 3, 4, 5,6,7,8,9,10]\n",
    "\n",
    "for i in a:\n",
    "    print(i * \"*\")\n",
    "    while i < 10:\n",
    "        print(\"-\" * i)\n",
    "        i += 1"
   ]
  }
 ],
 "metadata": {
  "kernelspec": {
   "display_name": ".venv",
   "language": "python",
   "name": "python3"
  },
  "language_info": {
   "codemirror_mode": {
    "name": "ipython",
    "version": 3
   },
   "file_extension": ".py",
   "mimetype": "text/x-python",
   "name": "python",
   "nbconvert_exporter": "python",
   "pygments_lexer": "ipython3",
   "version": "3.13.2"
  }
 },
 "nbformat": 4,
 "nbformat_minor": 2
}
