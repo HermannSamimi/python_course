{
 "cells": [
  {
   "cell_type": "code",
   "execution_count": 58,
   "metadata": {},
   "outputs": [
    {
     "name": "stdout",
     "output_type": "stream",
     "text": [
      "{\n",
      "    \"message\": \"Something went wrong!\"\n",
      "}\n"
     ]
    }
   ],
   "source": [
    "import requests\n",
    "import json\n",
    "\n",
    "query = \"burger\"\n",
    "\n",
    "url = f\"https://api.apilayer.com/spoonacular/recipes/complexSearch?query={query}\"\n",
    "\n",
    "\n",
    "payload = {}\n",
    "headers= {\n",
    "  \"apikey\": \"FTE9WrlSDcgOfCDJqNq7q4ifDQJ75sJP\"\n",
    "}\n",
    "\n",
    "response = requests.request(\"GET\", url, headers=headers, data = payload)\n",
    "\n",
    "status_code = response.status_code\n",
    "result = response.json()\n",
    "\n",
    "print(json.dumps(result, indent=4))"
   ]
  },
  {
   "cell_type": "code",
   "execution_count": null,
   "metadata": {},
   "outputs": [
    {
     "name": "stdout",
     "output_type": "stream",
     "text": [
      "Meal name: Beef Lo Mein\n",
      "Category: Beef\n",
      "Area: Chinese\n",
      "Instruction: STEP 1 - MARINATING THE BEEF\n",
      "In a bowl, add the beef, salt, 1 pinch white pepper, 1 Teaspoon sesame seed oil, 1/2 egg, corn starch,1 Tablespoon of oil and mix together.\n",
      "STEP 2 - BOILING THE THE NOOD\n",
      "{\n",
      "    \"meals\": [\n",
      "        {\n",
      "            \"idMeal\": \"52952\",\n",
      "            \"strMeal\": \"Beef Lo Mein\",\n",
      "            \"strMealAlternate\": null,\n",
      "            \"strCategory\": \"Beef\",\n",
      "            \"strArea\": \"Chinese\",\n",
      "            \"strInstructions\": \"STEP 1 - MARINATING THE BEEF\\r\\nIn a bowl, add the beef, salt, 1 pinch white pepper, 1 Teaspoon sesame seed oil, 1/2 egg, corn starch,1 Tablespoon of oil and mix together.\\r\\nSTEP 2 - BOILING THE THE NOODLES\\r\\nIn a 6 qt pot add your noodles to boiling water until the noodles are submerged and boil on high heat for 10 seconds. After your noodles is done boiling strain and cool with cold water.\\r\\nSTEP 3 - STIR FRY\\r\\nAdd 2 Tablespoons of oil, beef and cook on high heat untill beef is medium cooked.\\r\\nSet the cooked beef aside\\r\\nIn a wok add 2 Tablespoon of oil, onions, minced garlic, minced ginger, bean sprouts, mushrooms, peapods and 1.5 cups of water or until the vegetables are submerged in water.\\r\\nAdd the noodles to wok\\r\\nTo make the sauce, add oyster sauce, 1 pinch white pepper, 1 teaspoon sesame seed oil, sugar, and 1 Teaspoon of soy sauce.\\r\\nNext add the beef to wok and stir-fry\",\n",
      "            \"strMealThumb\": \"https://www.themealdb.com/images/media/meals/1529444830.jpg\",\n",
      "            \"strTags\": null,\n",
      "            \"strYoutube\": \"https://www.youtube.com/watch?v=ZT9LSsNXXe0\",\n",
      "            \"strIngredient1\": \"Beef\",\n",
      "            \"strIngredient2\": \"Salt\",\n",
      "            \"strIngredient3\": \"Pepper\",\n",
      "            \"strIngredient4\": \"Sesame Seed Oil\",\n",
      "            \"strIngredient5\": \"Egg\",\n",
      "            \"strIngredient6\": \"Starch\",\n",
      "            \"strIngredient7\": \"Oil\",\n",
      "            \"strIngredient8\": \"Noodles\",\n",
      "            \"strIngredient9\": \"Onion\",\n",
      "            \"strIngredient10\": \"Minced Garlic\",\n",
      "            \"strIngredient11\": \"Ginger\",\n",
      "            \"strIngredient12\": \"Bean Sprouts\",\n",
      "            \"strIngredient13\": \"Mushrooms\",\n",
      "            \"strIngredient14\": \"Water\",\n",
      "            \"strIngredient15\": \"Oyster Sauce\",\n",
      "            \"strIngredient16\": \"Sugar\",\n",
      "            \"strIngredient17\": \"Soy Sauce\",\n",
      "            \"strIngredient18\": \"\",\n",
      "            \"strIngredient19\": \"\",\n",
      "            \"strIngredient20\": \"\",\n",
      "            \"strMeasure1\": \"1/2 lb\",\n",
      "            \"strMeasure2\": \"pinch\",\n",
      "            \"strMeasure3\": \"pinch\",\n",
      "            \"strMeasure4\": \"2 tsp\",\n",
      "            \"strMeasure5\": \"1/2 \",\n",
      "            \"strMeasure6\": \"3 tbs\",\n",
      "            \"strMeasure7\": \"5 tbs\",\n",
      "            \"strMeasure8\": \"1/4 lb\",\n",
      "            \"strMeasure9\": \"1/2 cup \",\n",
      "            \"strMeasure10\": \"1 tsp \",\n",
      "            \"strMeasure11\": \"1 tsp \",\n",
      "            \"strMeasure12\": \"1 cup \",\n",
      "            \"strMeasure13\": \"1 cup \",\n",
      "            \"strMeasure14\": \"1 cup \",\n",
      "            \"strMeasure15\": \"1 tbs\",\n",
      "            \"strMeasure16\": \"1 tsp \",\n",
      "            \"strMeasure17\": \"1 tsp \",\n",
      "            \"strMeasure18\": \"\",\n",
      "            \"strMeasure19\": \"\",\n",
      "            \"strMeasure20\": \"\",\n",
      "            \"strSource\": \"https://sueandgambo.com/pages/beef-lo-mein\",\n",
      "            \"strImageSource\": null,\n",
      "            \"strCreativeCommonsConfirmed\": null,\n",
      "            \"dateModified\": null\n",
      "        }\n",
      "    ]\n",
      "}\n"
     ]
    }
   ],
   "source": [
    "import requests\n",
    "import json\n",
    "\n",
    "\n",
    "meal = \"Beef Lo Mein\"\n",
    "ingerdient = \"egg\"\n",
    "\n",
    "url = f\"https://www.themealdb.com/api/json/v1/1/search.php?s={meal}\"  # Example URL for Arrabiata pasta   # search by meal name\n",
    "# url = f\"https://www.themealdb.com/api/json/v1/1/filter.php?i={ingerdient}\"  # Example URL for filtering by ingredient\n",
    "\n",
    "\n",
    "res = requests.get(url)\n",
    "res = res.json()\n",
    "\n",
    "meal_data = res.get('meals', [])[0]  # Get the first meal from the list\n",
    "\n",
    "print(f\"Meal name: {meal_data['strMeal']}\")\n",
    "print(f\"Category: {meal_data['strCategory']}\") \n",
    "print(f\"Area: {meal_data['strArea']}\")\n",
    "print(f\"Instruction: {meal_data['strInstructions'][:200]}\")  # First 100 characters of instructions\n",
    "\n",
    "print()\n",
    "\n",
    "\n",
    "print(json.dumps(res, indent=4))  # Print the entire response in a formatted way\n",
    "\n"
   ]
  }
 ],
 "metadata": {
  "kernelspec": {
   "display_name": "tf-env",
   "language": "python",
   "name": "python3"
  },
  "language_info": {
   "codemirror_mode": {
    "name": "ipython",
    "version": 3
   },
   "file_extension": ".py",
   "mimetype": "text/x-python",
   "name": "python",
   "nbconvert_exporter": "python",
   "pygments_lexer": "ipython3",
   "version": "3.10.16"
  }
 },
 "nbformat": 4,
 "nbformat_minor": 2
}
