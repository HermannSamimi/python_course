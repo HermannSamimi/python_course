{
 "cells": [
  {
   "cell_type": "markdown",
   "metadata": {},
   "source": [
    "# Remove List Items\n",
    "\n",
    "The `remove()` method removes the specified item."
   ]
  },
  {
   "cell_type": "code",
   "execution_count": null,
   "metadata": {},
   "outputs": [
    {
     "name": "stdout",
     "output_type": "stream",
     "text": [
      "['apple', 'cherry']\n",
      "['apple', 'cherry', 'banana', 'kiwi']\n"
     ]
    }
   ],
   "source": [
    "# Remove \"banana\":\n",
    "\n",
    "thislist = [\"apple\", \"banana\", \"cherry\"]\n",
    "thislist.remove(\"banana\")\n",
    "print(thislist)\n",
    "\n",
    "\n",
    "\n",
    "# If there are more than one item with the specified value, the remove() method removes the first occurrence:\n",
    "\n",
    "thislist = [\"apple\", \"banana\", \"cherry\", \"banana\", \"kiwi\"]\n",
    "thislist.remove(\"banana\")\n",
    "print(thislist)"
   ]
  },
  {
   "cell_type": "markdown",
   "metadata": {},
   "source": [
    "# Remove Specified Index\n",
    "The `pop()` method removes the specified index.\n",
    "\n"
   ]
  },
  {
   "cell_type": "code",
   "execution_count": null,
   "metadata": {},
   "outputs": [
    {
     "name": "stdout",
     "output_type": "stream",
     "text": [
      "['apple', 'cherry']\n"
     ]
    }
   ],
   "source": [
    "# If you do not specify the index, the pop() method removes the last item.\n",
    "\n",
    "\n",
    "thislist = [\"apple\", \"banana\", \"cherry\"]\n",
    "thislist.pop(1)\n",
    "print(thislist)"
   ]
  },
  {
   "cell_type": "markdown",
   "metadata": {},
   "source": [
    "# Clear the List\n",
    "The clear() method empties the list.\n",
    "\n",
    "The list still remains, but it has no content."
   ]
  },
  {
   "cell_type": "code",
   "execution_count": null,
   "metadata": {},
   "outputs": [
    {
     "name": "stdout",
     "output_type": "stream",
     "text": [
      "[]\n"
     ]
    }
   ],
   "source": [
    "thislist = [\"apple\", \"banana\", \"cherry\"]\n",
    "thislist.clear()\n",
    "print(thislist)"
   ]
  },
  {
   "cell_type": "markdown",
   "metadata": {},
   "source": [
    "# Loop Through a List\n",
    "You can loop through the list items by using a `for` loop:"
   ]
  },
  {
   "cell_type": "code",
   "execution_count": 1,
   "metadata": {},
   "outputs": [
    {
     "name": "stdout",
     "output_type": "stream",
     "text": [
      "1\n",
      "4\n",
      "omid\n",
      "True\n",
      "5.6\n"
     ]
    }
   ],
   "source": [
    "# thislist = [\"apple\", \"banana\", \"cherry\"]\n",
    "# for x in thislist:\n",
    "#   print(x)\n",
    "\n",
    "mylist = [1, 4, \"omid\", True, 5.6]\n",
    "for itr in mylist:\n",
    "    print(itr)"
   ]
  },
  {
   "cell_type": "markdown",
   "metadata": {},
   "source": [
    "# Sort Lists\n",
    "\n",
    "Sort List Alphanumerically\n",
    "List objects have a `sort()` method that will sort the list alphanumerically, ascending, by default:"
   ]
  },
  {
   "cell_type": "code",
   "execution_count": 8,
   "metadata": {},
   "outputs": [
    {
     "name": "stdout",
     "output_type": "stream",
     "text": [
      "the original list : [4, 5, 2, 1, 3]\n",
      "the asc sort : [1, 2, 3, 4, 5]\n",
      "the desc sort : [5, 4, 3, 2, 1]\n",
      "the original list is : ['c', 'a', 'b', 'd']\n",
      "the original al list : ['a', 'b', 'c', 'd']\n",
      "the asc al sort : ['d', 'c', 'b', 'a']\n"
     ]
    }
   ],
   "source": [
    "# Sort the list alphabetically:\n",
    "\n",
    "mylist = [4,5,2,1,3]\n",
    "print(f\"the original list : {mylist}\")\n",
    "mylist.sort()\n",
    "print(f\"the asc sort : {mylist}\")\n",
    "mylist.sort(reverse=True)\n",
    "print(f\"the desc sort : {mylist}\")\n",
    "\n",
    "my_al_list = [\"c\", \"a\", \"b\", \"d\"]\n",
    "print(f\"the original list is : {my_al_list}\")\n",
    "my_al_list.sort()\n",
    "print(f\"the original al list : {my_al_list}\")\n",
    "my_al_list.sort(reverse=True)\n",
    "print(f\"the asc al sort : {my_al_list}\")\n",
    "# Sort the list alphabetically, descending:\n",
    "# my_al_list.sort(reverse=True)\n",
    "\n",
    "# thislist = [\"orange\", \"mango\", \"kiwi\", \"pineapple\", \"banana\"]\n",
    "# thislist.sort()\n",
    "# print(thislist)\n",
    "\n",
    "\n",
    "# # Sort the list numerically:\n",
    "\n",
    "# thislist = [100, 50, 65, 82, 23]\n",
    "# thislist.sort()\n",
    "# print(thislist)\n",
    "\n"
   ]
  },
  {
   "cell_type": "code",
   "execution_count": null,
   "metadata": {},
   "outputs": [
    {
     "name": "stdout",
     "output_type": "stream",
     "text": [
      "['pineapple', 'orange', 'mango', 'kiwi', 'banana']\n"
     ]
    }
   ],
   "source": [
    "# Sort the list descending:\n",
    "\n",
    "thislist = [\"orange\", \"mango\", \"kiwi\", \"pineapple\", \"banana\"]\n",
    "thislist.sort(reverse = True)\n",
    "print(thislist)\n",
    "\n",
    "\n",
    "thislist = [100, 50, 65, 82, 23]\n",
    "thislist.sort(reverse = True)\n",
    "print(thislist)"
   ]
  },
  {
   "cell_type": "code",
   "execution_count": 15,
   "metadata": {},
   "outputs": [
    {
     "name": "stdout",
     "output_type": "stream",
     "text": [
      "('child1', {'name': 'Emil', 'year': 2004})\n",
      "('child2', {'name': 'Tobias', 'year': 2007})\n",
      "('child3', {'name': 'Linus', 'year': 2011})\n",
      "Emil\n",
      "Emil\n",
      "Tobias\n",
      "Linus\n"
     ]
    }
   ],
   "source": [
    "myfamily = {\n",
    "  \"child1\" : {\n",
    "    \"name\" : \"Emil\",\n",
    "    \"year\" : 2004\n",
    "  },\n",
    "  \"child2\" : {\n",
    "    \"name\" : \"Tobias\",\n",
    "    \"year\" : 2007\n",
    "  },\n",
    "  \"child3\" : {\n",
    "    \"name\" : \"Linus\",\n",
    "    \"year\" : 2011\n",
    "  }\n",
    "}\n",
    "\n",
    "for x  in myfamily.items():\n",
    "  print(x)\n",
    "\n",
    "print(myfamily[\"child1\"][\"name\"])\n",
    "\n",
    "\n",
    "for y in myfamily:\n",
    "    print(myfamily[y][\"name\"])"
   ]
  },
  {
   "cell_type": "code",
   "execution_count": null,
   "metadata": {},
   "outputs": [],
   "source": [
    "# +=\n",
    "# -=\n",
    "# *=\n",
    "# /=\n",
    "\n",
    "\n",
    "a = 5\n",
    "+=\n",
    "# a = a + 5  --> a += 5\n",
    "# a = a - 5  --> a -= 5\n",
    "# a = a / 5  --> a /= 5\n",
    "\n"
   ]
  },
  {
   "cell_type": "code",
   "execution_count": 11,
   "metadata": {},
   "outputs": [
    {
     "name": "stdout",
     "output_type": "stream",
     "text": [
      "Nooooo\n"
     ]
    }
   ],
   "source": [
    "#boolean\n",
    "# AC-Milan and Liverpool\n",
    "\n",
    "ac_milan_goals = 0\n",
    "liverpool_goals = 3\n",
    "\n",
    "if ac_milan_goals == True:\n",
    "    if liverpool_goals > ac_milan_goals:\n",
    "        print(\"Liverpool won the match\")\n",
    "    elif liverpool_goals == ac_milan_goals:\n",
    "        print(\"The match was a draw\")\n",
    "    else:\n",
    "        print(\"AC Milan won the match\")\n",
    "else:\n",
    "    print(\"Nooooo\")"
   ]
  },
  {
   "cell_type": "code",
   "execution_count": 25,
   "metadata": {},
   "outputs": [
    {
     "name": "stdout",
     "output_type": "stream",
     "text": [
      "0\n",
      "1\n",
      "2\n",
      "3\n",
      "ok the number is 4\n",
      "5\n",
      "6\n",
      "7\n",
      "8\n",
      "9\n",
      "10\n"
     ]
    }
   ],
   "source": [
    "# while\n",
    "\n",
    "\n",
    "# Count from 1 to 10, but stop early at 5\n",
    "count = 0\n",
    "while count <= 10:\n",
    "    if count == 4:\n",
    "        print(\"ok the number is 4\")\n",
    "    else:\n",
    "        print(count)\n",
    "    count += 1\n",
    "\n",
    "# correct_username = \"admin\"\n",
    "\n",
    "# username = input(\"Enter your username: \")\n",
    "# while username != correct_username:\n",
    "#     print(\"Incorrect username. Please try again.\")\n",
    "#     username = input(\"Enter your username: \")\n",
    "\n",
    "# number = -10\n",
    "# range  > -10 to 100\n",
    "# number % 5 = 0\n",
    "\n",
    "# while number <= 100:\n",
    "#     if number % 5 == 0:\n",
    "#         print(f\"{number} is divisible by 5\")\n",
    "#     else:\n",
    "#         print(number)\n",
    "#     number += 1\n",
    "\n"
   ]
  },
  {
   "cell_type": "code",
   "execution_count": null,
   "metadata": {},
   "outputs": [
    {
     "name": "stdout",
     "output_type": "stream",
     "text": [
      "0\n",
      "even\n",
      "2\n",
      "even\n",
      "4\n",
      "even\n",
      "6\n",
      "even\n",
      "8\n",
      "even\n"
     ]
    }
   ],
   "source": [
    "\n",
    "\n",
    "\n",
    "# Print only odd numbers from 1 to 10\n",
    "num = 0\n",
    "while num < 10:\n",
    "    if num % 2 == 0:\n",
    "        print(num)\n",
    "    else:\n",
    "        print(\"even\")\n",
    "    num += 1\n"
   ]
  },
  {
   "cell_type": "code",
   "execution_count": 53,
   "metadata": {},
   "outputs": [
    {
     "name": "stdout",
     "output_type": "stream",
     "text": [
      "[36, 51, 82, 66, 32, 7, 16, 96, 19, 22]\n",
      "36\n",
      "odd\n",
      "82\n",
      "breaking number appeared – break time\n"
     ]
    }
   ],
   "source": [
    "import random\n",
    "numbers = random.sample(range(1, 100), 10)\n",
    "breaking_numbers = [11, 22, 33, 44, 55, 66, 77, 88, 99]\n",
    "print(numbers)\n",
    "\n",
    "while True:\n",
    "    for i in numbers:\n",
    "        if i in breaking_numbers:\n",
    "            print(\"breaking number appeared – break time\")\n",
    "            found = True\n",
    "            break        # breaks out of the for-loop\n",
    "\n",
    "        if i % 2 == 0:\n",
    "            print(i)\n",
    "        else:\n",
    "            print(\"odd\")\n",
    "            continue     # skips to next i\n",
    "\n",
    "    if found:\n",
    "        break            # breaks out of the while-loop\n",
    "    # otherwise, loop back and scan `numbers` again…\n",
    "    \n"
   ]
  },
  {
   "cell_type": "code",
   "execution_count": 28,
   "metadata": {},
   "outputs": [
    {
     "name": "stdout",
     "output_type": "stream",
     "text": [
      "100\n",
      "99\n",
      "98\n",
      "97\n",
      "96\n",
      "95\n",
      "94\n",
      "93\n",
      "92\n",
      "91\n",
      "90\n",
      "89\n",
      "88\n",
      "87 is in the forbidden numbers list\n",
      "86\n",
      "85\n",
      "84\n",
      "83\n",
      "82\n",
      "81\n",
      "80\n",
      "79\n",
      "78\n",
      "77\n",
      "76\n",
      "75\n",
      "74\n",
      "73\n",
      "72\n",
      "71\n",
      "70\n",
      "69\n",
      "68\n",
      "67\n",
      "66\n",
      "65\n",
      "64\n",
      "63\n",
      "62\n",
      "61\n",
      "60\n",
      "59\n",
      "58\n",
      "57\n",
      "56\n",
      "55\n",
      "54\n",
      "53\n",
      "52\n",
      "51\n",
      "50\n",
      "49\n",
      "48\n",
      "47\n",
      "46\n",
      "45 is in the forbidden numbers list\n",
      "44\n",
      "43\n",
      "42\n",
      "41\n",
      "40\n",
      "39\n",
      "38\n",
      "37\n",
      "36\n",
      "35\n",
      "34\n",
      "33\n",
      "32 is in the forbidden numbers list\n",
      "31\n",
      "30\n",
      "29\n",
      "28\n",
      "27\n",
      "26\n",
      "25\n",
      "24\n",
      "23\n",
      "22\n",
      "21\n",
      "20\n",
      "19\n",
      "18\n",
      "17\n",
      "16\n",
      "15\n",
      "14\n",
      "13\n",
      "12\n",
      "11 is in the forbidden numbers list\n",
      "10\n",
      "9\n",
      "8\n",
      "7\n",
      "6\n",
      "5 is in the forbidden numbers list\n",
      "4\n",
      "3\n",
      "2 is in the forbidden numbers list\n",
      "1\n",
      "0\n",
      "-1\n",
      "-2\n",
      "-3\n",
      "-4\n",
      "-5\n",
      "-6\n",
      "-7\n",
      "-8\n",
      "-9\n",
      "-10\n",
      "-11\n",
      "-12\n",
      "-13\n",
      "-14\n",
      "-15\n",
      "-16\n",
      "-17\n",
      "-18\n",
      "-19\n",
      "-20\n",
      "-21\n",
      "-22\n",
      "-23\n",
      "-24\n",
      "-25\n",
      "-26\n",
      "-27\n",
      "-28\n",
      "-29\n",
      "-30\n",
      "-31\n",
      "-32\n",
      "-33\n",
      "-34\n",
      "-35\n",
      "-36\n",
      "-37\n",
      "-38\n",
      "-39\n",
      "-40\n",
      "-41\n",
      "-42\n",
      "-43\n",
      "-44\n",
      "-45\n",
      "-46\n",
      "-47\n",
      "-48\n",
      "-49\n",
      "-50\n"
     ]
    }
   ],
   "source": [
    "# print all numbers from -50 to 100\n",
    "forbi_nums = [2,5,87,45,32,11]\n",
    "# print, i can not print this {} number\n",
    "\n",
    "\n",
    "i = -50\n",
    "while i <= 100:\n",
    "    if i in forbi_nums:\n",
    "        print(f\"{i} is in the forbidden numbers list\")\n",
    "    else:\n",
    "        print(i)\n",
    "    i += 1\n",
    "\n",
    "\n",
    "\n",
    "i = 100\n",
    "while i >= -50:\n",
    "    if i in forbi_nums:\n",
    "        print(f\"{i} is in the forbidden numbers list\")\n",
    "    else:\n",
    "        print(i)\n",
    "    \n",
    "    i -= 1"
   ]
  },
  {
   "cell_type": "code",
   "execution_count": 38,
   "metadata": {},
   "outputs": [
    {
     "name": "stdout",
     "output_type": "stream",
     "text": [
      "10000\n",
      "5000.0\n",
      "2500.0\n",
      "1250.0\n",
      "625.0\n"
     ]
    }
   ],
   "source": [
    "num = 10_000\n",
    "while num > 0:\n",
    "    print(num)\n",
    "    if num == 625:\n",
    "        break\n",
    "\n",
    "    num /= 2"
   ]
  },
  {
   "cell_type": "code",
   "execution_count": 40,
   "metadata": {},
   "outputs": [
    {
     "name": "stdout",
     "output_type": "stream",
     "text": [
      "1\n",
      "2\n",
      "3\n",
      "5\n"
     ]
    }
   ],
   "source": [
    "count = 0\n",
    "while count < 5:\n",
    "    count += 1\n",
    "    if count == 4:\n",
    "        continue  # Skip printing number 3\n",
    "    print(count)\n"
   ]
  },
  {
   "cell_type": "code",
   "execution_count": 43,
   "metadata": {},
   "outputs": [
    {
     "name": "stdout",
     "output_type": "stream",
     "text": [
      "0\n",
      "1\n",
      "2\n",
      "3\n",
      "5\n",
      "6\n",
      "8\n",
      "9\n",
      "10\n",
      "12\n",
      "13\n",
      "14\n",
      "15\n",
      "16\n",
      "17\n"
     ]
    }
   ],
   "source": [
    "# 0 to 20\n",
    "\n",
    "# ignore numbers: 7,11,4\n",
    "# exit point : 18\n",
    "\n",
    "i = 0\n",
    "j = [4, 7, 11]\n",
    "\n",
    "while i <= 20:\n",
    "    if i in j:\n",
    "        i += 1        # Increment i to avoid infinite loop when using continue\n",
    "        continue\n",
    "    elif i == 18:\n",
    "        break\n",
    "    else:\n",
    "        print(i)\n",
    "    i += 1"
   ]
  },
  {
   "cell_type": "code",
   "execution_count": null,
   "metadata": {},
   "outputs": [],
   "source": [
    "# Simple password check: max 3 attempts\n",
    "correct_password = \"s3cr3t\"\n",
    "attempts = 0\n",
    "\n",
    "while attempts < 3:\n",
    "    guess = input(\"Enter password: \")\n",
    "    attempts += 1\n",
    "\n",
    "    if not guess:\n",
    "        print(\"No input given, try again.\")\n",
    "        continue   # don’t count this as a proper attempt, ask again\n",
    "\n",
    "    if guess == correct_password:\n",
    "        print(\"Access granted!\")\n",
    "        break      # success—exit the loop\n",
    "    else:\n",
    "        print(\"Wrong password. Attempts left:\", 3 - attempts)\n",
    "else:\n",
    "    # This else runs only if the loop wasn’t exited via break\n",
    "    print(\"Too many failed attempts. Access denied.\")"
   ]
  },
  {
   "cell_type": "code",
   "execution_count": null,
   "metadata": {},
   "outputs": [],
   "source": [
    "\n",
    "\n"
   ]
  },
  {
   "cell_type": "markdown",
   "metadata": {},
   "source": [
    "# Dict practice"
   ]
  },
  {
   "cell_type": "code",
   "execution_count": 61,
   "metadata": {},
   "outputs": [
    {
     "name": "stdout",
     "output_type": "stream",
     "text": [
      "{'name': 'Hermann', 'age': 39, 'job': 'data engineer', 'fav_col': 'Blue'}\n",
      "Hermann\n",
      "Hermann\n",
      "<class 'str'>\n",
      "Data Engineer\n",
      "{'name': 'Hermann', 'age': 39, 'job': 'data engineer', 'fav_col': 'Red'}\n"
     ]
    }
   ],
   "source": [
    "md = {\n",
    "    \"name\": \"Hermann\",\n",
    "    \"age\" : 39,\n",
    "    \"job\" : \"data engineer\",\n",
    "    \"fav_col\" : \"Blue\"\n",
    "}\n",
    "\n",
    "# 1- print the entire dict\n",
    "print(md)\n",
    "# 2 - print my name\n",
    "# first way\n",
    "my_name = md['name']\n",
    "print(my_name)\n",
    "# second way\n",
    "print(md['name'])\n",
    "print(type(md['name']))\n",
    "# 3 - print title of job\n",
    "ti_jo = md['job'].title()\n",
    "print(ti_jo)\n",
    "# 4 - change my fav col to Red\n",
    "md['fav_col'] = \"Red\"\n",
    "print(md)"
   ]
  },
  {
   "cell_type": "code",
   "execution_count": 44,
   "metadata": {},
   "outputs": [
    {
     "name": "stdout",
     "output_type": "stream",
     "text": [
      "30\n"
     ]
    }
   ],
   "source": [
    "# create a dict mapping names to ages\n",
    "ages = {\n",
    " \"Alice\": 30,\n",
    " \"Bob\": 25,\n",
    " \"Carol\": 27\n",
    " }\n",
    "\n",
    "# json documt --> item --> key : value\n",
    "\n",
    "# access by key\n",
    "print(ages['Alice'])   # → 25"
   ]
  },
  {
   "cell_type": "code",
   "execution_count": 46,
   "metadata": {},
   "outputs": [
    {
     "name": "stdout",
     "output_type": "stream",
     "text": [
      "<class 'dict'>\n"
     ]
    }
   ],
   "source": [
    "# build from a list of (key, value) tuples\n",
    "pairs = [(\"x\", 1), (\"y\", 2), (\"z\", 3)]\n",
    "coords = dict(pairs)\n",
    "\n",
    "print(type(coords))        # → {'x': 1, 'y': 2, 'z': 3}"
   ]
  },
  {
   "cell_type": "code",
   "execution_count": 48,
   "metadata": {},
   "outputs": [
    {
     "name": "stdout",
     "output_type": "stream",
     "text": [
      "{'b': 10}\n"
     ]
    }
   ],
   "source": [
    "d = {\"a\": 1, \"b\": 2}\n",
    "\n",
    "# add or update\n",
    "d[\"b\"] = 10\n",
    "# d[\"a\"] = 100        # overwrites existing\n",
    "\n",
    "# delete\n",
    "del d[\"a\"]\n",
    "\n",
    "print(d)            # → {'a': 100, 'c': 3}"
   ]
  },
  {
   "cell_type": "code",
   "execution_count": 70,
   "metadata": {},
   "outputs": [
    {
     "name": "stdout",
     "output_type": "stream",
     "text": [
      "apple\n",
      "banana\n",
      "cherry\n",
      "apple\n",
      "banana\n",
      "cherry\n",
      "100\n",
      "500\n",
      "200\n",
      "[100, 500, 200]\n",
      "800\n"
     ]
    }
   ],
   "source": [
    "wh = {\n",
    "    \"apple\": 100,\n",
    "    \"banana\": 500,\n",
    "    \"cherry\": 200\n",
    "\n",
    "    }\n",
    "for fruits in wh:\n",
    "    print(fruits)\n",
    "\n",
    "for wh_keys in wh.keys():\n",
    "    print(wh_keys)\n",
    "\n",
    "\n",
    "kg = []\n",
    "for wh_keys in wh.values():\n",
    "    print(wh_keys)\n",
    "    kg.append(wh_keys)\n",
    "print(kg)\n",
    "print(sum(kg))\n",
    "\n",
    "\n"
   ]
  },
  {
   "cell_type": "code",
   "execution_count": 71,
   "metadata": {},
   "outputs": [
    {
     "name": "stdout",
     "output_type": "stream",
     "text": [
      "pen\n",
      "notebook\n",
      "eraser\n",
      "150\n",
      "300\n",
      "50\n",
      "500\n"
     ]
    }
   ],
   "source": [
    "# 1- give me a list of materials inside my inv\n",
    "# 2- i want the value of inven in list\n",
    "# 3- sum of all values\n",
    "inventory = {\n",
    "    \"pen\": 150,\n",
    "    \"notebook\": 300,\n",
    "    \"eraser\": 50\n",
    "}\n",
    "# 1- give me a list of materials inside my inv\n",
    "for materials in inventory.keys():\n",
    "    print(materials)\n",
    "\n",
    "# 2- i want the value of inven in list\n",
    "for vals in inventory.values():\n",
    "    print(vals)\n",
    "\n",
    "\n",
    "# 3- sum of all values\n",
    "emli = []\n",
    "for vals in inventory.values():\n",
    "    emli.append(vals)\n",
    "\n",
    "print(sum(emli))"
   ]
  },
  {
   "cell_type": "code",
   "execution_count": null,
   "metadata": {},
   "outputs": [
    {
     "name": "stdout",
     "output_type": "stream",
     "text": [
      "apple\n",
      "banana\n",
      "cherry\n",
      "3\n",
      "5\n",
      "2\n",
      "apple → 3\n",
      "banana → 5\n",
      "cherry → 2\n"
     ]
    }
   ],
   "source": [
    "d = {\"apple\": 100, \"banana\": 500, \"cherry\": 200}\n",
    "\n",
    "for key in d.keys():\n",
    "    print(key)\n",
    "\n",
    "for value in d.values():\n",
    "    print(value)\n",
    "\n",
    "for key, value in d.items():\n",
    "    print(f\"{key} → {value}\")"
   ]
  },
  {
   "cell_type": "code",
   "execution_count": 73,
   "metadata": {},
   "outputs": [
    {
     "name": "stdout",
     "output_type": "stream",
     "text": [
      "100\n",
      "100\n"
     ]
    }
   ],
   "source": [
    "scores = {\"math\": 90, \"english\": 85}\n",
    "d = {\"apple\": 100, \"banana\": 500, \"cherry\": 200}\n",
    "\n",
    "print(d['apple'])\n",
    "print(d.get('apple'))\n",
    "# print(scores.get(\"math\"))         # → 90\n",
    "# print(scores.get(\"history\", 0))   # → 0 (default if key missing)"
   ]
  },
  {
   "cell_type": "code",
   "execution_count": 76,
   "metadata": {},
   "outputs": [
    {
     "name": "stdout",
     "output_type": "stream",
     "text": [
      "30\n",
      "his name is Bob and he is 25 years old\n"
     ]
    }
   ],
   "source": [
    "# data for multiple users\n",
    "users = {\n",
    "    \"u1\": {\"name\": \"Alice\", \"age\": 30},\n",
    "    \"u2\": {\"name\": \"Bob\",   \"age\": 25},\n",
    "}\n",
    "\n",
    "print(users[\"u1\"][\"age\"])   # → Alice\n",
    "\n",
    "yyy = users['u2']['age']\n",
    "print(f\"his name is {users['u2']['name']} and he is {yyy} years old\")"
   ]
  },
  {
   "cell_type": "code",
   "execution_count": 89,
   "metadata": {},
   "outputs": [
    {
     "name": "stdout",
     "output_type": "stream",
     "text": [
      "p1 {'name': 'Laptop', 'price': 1200, 'stock': 10}\n",
      "Laptop\n",
      "Laptop\n",
      "p2 {'name': 'Smartphone', 'price': 800, 'stock': 25}\n",
      "Smartphone\n",
      "Smartphone\n",
      "p3 {'name': 'Tablet', 'price': 450, 'stock': 15}\n",
      "Tablet\n",
      "Tablet\n",
      "p4 {'name': 'Monitor', 'price': 300, 'stock': 12}\n",
      "Monitor\n",
      "Monitor\n",
      "p5 {'name': 'Keyboard', 'price': 70, 'stock': 40}\n",
      "Keyboard\n",
      "Keyboard\n",
      "p6 {'name': 'Mouse', 'price': 50, 'stock': 30}\n",
      "Mouse\n",
      "Mouse\n"
     ]
    }
   ],
   "source": [
    "products = {\n",
    "    \"p1\": {\"name\": \"Laptop\", \"price\": 1200, \"stock\": 10},\n",
    "    \"p2\": {\"name\": \"Smartphone\", \"price\": 800, \"stock\": 25},\n",
    "    \"p3\": {\"name\": \"Tablet\", \"price\": 450, \"stock\": 15},\n",
    "    \"p4\": {\"name\": \"Monitor\", \"price\": 300, \"stock\": 12},\n",
    "    \"p5\": {\"name\": \"Keyboard\", \"price\": 70, \"stock\": 40},\n",
    "    \"p6\": {\"name\": \"Mouse\", \"price\": 50, \"stock\": 30},\n",
    "}\n",
    "# 1- give me p4 name and price in a f string\n",
    "\n",
    "name = []\n",
    "price = []\n",
    "stock = []\n",
    "\n",
    "for key, valu in products.items():\n",
    "    print(key, valu)\n",
    "    print(valu['name'])\n",
    "    print(valu.get('name'))"
   ]
  }
 ],
 "metadata": {
  "kernelspec": {
   "display_name": ".venv",
   "language": "python",
   "name": "python3"
  },
  "language_info": {
   "codemirror_mode": {
    "name": "ipython",
    "version": 3
   },
   "file_extension": ".py",
   "mimetype": "text/x-python",
   "name": "python",
   "nbconvert_exporter": "python",
   "pygments_lexer": "ipython3",
   "version": "3.13.2"
  }
 },
 "nbformat": 4,
 "nbformat_minor": 2
}
