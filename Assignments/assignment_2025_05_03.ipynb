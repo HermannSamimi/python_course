{
 "cells": [
  {
   "cell_type": "code",
   "execution_count": 5,
   "metadata": {},
   "outputs": [],
   "source": [
    "# Task 1: Greeting Formatter\n",
    "\n",
    "# Given the variables below, use string methods to format and print:\n",
    "# \"Good EVENING, Hermann!\"\n",
    "\n",
    "name = \"Hermann\"\n",
    "time_of_day = \"evening\""
   ]
  },
  {
   "cell_type": "code",
   "execution_count": 17,
   "metadata": {},
   "outputs": [
    {
     "name": "stdout",
     "output_type": "stream",
     "text": [
      "Good evening, Hermann!\n"
     ]
    }
   ],
   "source": [
    "name = \"Hermann\"\n",
    "time_of_day = \"evening\"\n",
    "\n",
    "print(f\"Good {time_of_day}, {name}!\")"
   ]
  },
  {
   "cell_type": "code",
   "execution_count": null,
   "metadata": {},
   "outputs": [],
   "source": [
    "# Task 2: Voting Eligibility\n",
    "\n",
    "# Check if the given age allows a person to vote.\n",
    "# Print \"Eligible to vote\" if age is 18 or above, otherwise print \"Not eligible\".\n",
    "\n",
    "age = 16"
   ]
  },
  {
   "cell_type": "code",
   "execution_count": 19,
   "metadata": {},
   "outputs": [
    {
     "name": "stdout",
     "output_type": "stream",
     "text": [
      "Eligible to vote\n"
     ]
    }
   ],
   "source": [
    "age = 54\n",
    "\n",
    "if age >= 18:\n",
    "    print(\"Eligible to vote\")\n",
    "else: \n",
    "    print(\"Not eligible\")"
   ]
  },
  {
   "cell_type": "code",
   "execution_count": null,
   "metadata": {},
   "outputs": [],
   "source": [
    "# Task 3: Password Strength Checker\n",
    "\n",
    "# Check if the password is strong.\n",
    "# Strong: 8+ characters and contains \"!\"\n",
    "# Medium: 6+ characters\n",
    "# Weak: anything else\n",
    "\n",
    "password = \"hello123\""
   ]
  },
  {
   "cell_type": "code",
   "execution_count": null,
   "metadata": {},
   "outputs": [],
   "source": [
    "# Task 4: Discount Calculator\n",
    "\n",
    "# Calculate final price based on user type.\n",
    "# Students: 20% discount, Seniors: 30% discount, Others: no discount.\n",
    "\n",
    "price = 100\n",
    "user_type = \"student\"  # Options: \"student\", \"senior\", \"regular\""
   ]
  },
  {
   "cell_type": "code",
   "execution_count": null,
   "metadata": {},
   "outputs": [],
   "source": [
    "# Task 5: Temperature Advisor\n",
    "\n",
    "# Print a weather comment based on temperature:\n",
    "# >30: \"It's hot!\"\n",
    "# 15–30: \"Nice weather.\"\n",
    "# <15: \"It's cold.\"\n",
    "\n",
    "temperature = 8"
   ]
  },
  {
   "cell_type": "code",
   "execution_count": null,
   "metadata": {},
   "outputs": [],
   "source": [
    "# Task 6: Name Analyzer\n",
    "\n",
    "# Use string methods to:\n",
    "# - Print name in uppercase\n",
    "# - Print the number of letters\n",
    "# - Check if the name contains the letter \"a\"\n",
    "\n",
    "name = \"Michael\""
   ]
  },
  {
   "cell_type": "code",
   "execution_count": null,
   "metadata": {},
   "outputs": [],
   "source": [
    "# Task 7: Login System\n",
    "\n",
    "# Check if the given username and password match the correct values.\n",
    "# If both match, print \"Login successful\".\n",
    "# If only username is wrong, print \"Invalid username\".\n",
    "# If only password is wrong, print \"Invalid password\".\n",
    "# If both are wrong, print \"Access denied\".\n",
    "\n",
    "correct_username = \"admin\"\n",
    "correct_password = \"1234\"\n",
    "\n",
    "username = \"admin\"\n",
    "password = \"4321\""
   ]
  },
  {
   "cell_type": "code",
   "execution_count": null,
   "metadata": {},
   "outputs": [],
   "source": [
    "# Task 8: Triangle Type Checker\n",
    "\n",
    "# Determine the type of triangle based on the side lengths.\n",
    "# If all sides are equal → \"Equilateral\"\n",
    "# If any two sides are equal → \"Isosceles\"\n",
    "# If all sides are different → \"Scalene\"\n",
    "\n",
    "# please note that not equal sign is !=\n",
    "\n",
    "a = 7\n",
    "b = 7\n",
    "c = 5\n"
   ]
  },
  {
   "cell_type": "code",
   "execution_count": null,
   "metadata": {},
   "outputs": [],
   "source": [
    "# Task 9: Math Quiz Evaluator\n",
    "\n",
    "# Check if the user's answer to a math question is correct.\n",
    "# Print \"Correct!\" or \"Wrong answer.\"\n",
    "\n",
    "question = \"What is 8 * 7?\"\n",
    "correct_answer = 56\n",
    "user_answer = 54"
   ]
  },
  {
   "cell_type": "code",
   "execution_count": 4,
   "metadata": {},
   "outputs": [],
   "source": [
    "# Task 10: Simple Currency Converter\n",
    "\n",
    "# Convert EUR to USD or GBP.\n",
    "# Use fixed rates:\n",
    "# 1 EUR = 1.1 USD\n",
    "# 1 EUR = 0.85 GBP\n",
    "\n",
    "amount_eur = 100\n",
    "currency = \"usd\"  # Options: \"usd\", \"gbp\"\n",
    "\n",
    "# Output: \"100 EUR is 110 USD\" or \"100 EUR is 85 GBP\""
   ]
  },
  {
   "cell_type": "code",
   "execution_count": null,
   "metadata": {},
   "outputs": [],
   "source": [
    "# Task 11: Movie Age Rating Checker\n",
    "\n",
    "# Check if a person can watch a movie based on age and movie rating.\n",
    "# Ratings:\n",
    "# \"G\" → everyone\n",
    "# \"PG\" → 10+\n",
    "# \"PG-13\" → 13+\n",
    "# \"R\" → 18+\n",
    "\n",
    "age = 12\n",
    "movie_rating = \"PG-13\"\n",
    "\n",
    "# Output: \"Access denied\" or \"Enjoy the movie!\""
   ]
  },
  {
   "cell_type": "code",
   "execution_count": null,
   "metadata": {},
   "outputs": [
    {
     "name": "stdout",
     "output_type": "stream",
     "text": [
      "12\n",
      "everyone\n"
     ]
    }
   ],
   "source": [
    "def movie_checker(age) -> str:\n",
    "    if age > 10:        print(12)\n",
    "    if age > 13:        print('PG-13')\n",
    "    if age > 18:        print('R')\n",
    "    else:       print('everyone')\n",
    "\n",
    "movie_checker(12)\n"
   ]
  },
  {
   "cell_type": "code",
   "execution_count": null,
   "metadata": {},
   "outputs": [
    {
     "name": "stdout",
     "output_type": "stream",
     "text": [
      "a: 263,488,514,143 and can be converted to 263B\n"
     ]
    }
   ],
   "source": [
    "'''\n",
    "create a function that generates a random number between 1 to 1,000,000,000,000 and converts it as following:\n",
    "1200 -> 1.2k\n",
    "300,000 -> 300k\n",
    "4,897,250 -> 4m\n",
    "800,000,000 -> 800m\n",
    "1,000,000,000 -> 1b\n",
    "'''\n",
    "\n",
    "import random\n",
    "\n",
    "# 1\n",
    "# 10\n",
    "# 100\n",
    "# 1000 -> 1k -> 4\n",
    "# 10,000 --> 10k\n",
    "# 100,000 --> 100K\n",
    "# 1,000,000 -> 1m 7\n",
    "# 10,000,000 --> 10m\n",
    "# 100,000,000 --> 100m - 9\n",
    "# 1,000,000,000 -> 1b - 10\n",
    "\n",
    "# 4 - 6 -> k\n",
    "# 7-9 -> m\n",
    "# 10 -> b\n",
    "\n",
    "\n",
    "\n",
    "\n",
    "def int_con(a):\n",
    "    lena = len(str(abs(a)))\n",
    "    if lena >= 10:\n",
    "        print(f\"a: {\"{:,}\".format(a)} and can be converted to {a//1000000000}B\")\n",
    "    elif lena > 6 and lena < 10:\n",
    "        print(f\"a: {\"{:,}\".format(a)} and can be converted to {a // 1000000}m\")\n",
    "    elif lena >= 4 and lena <= 6:\n",
    "        print(f\"a: {\"{:,}\".format(a)} and can be converted to {a // 1000}k\")\n",
    "    else:\n",
    "        print(a)\n",
    "\n",
    "\n",
    "int_generator = random.randint(1, 1_000_000_000_000)\n",
    "int_con(int_generator)"
   ]
  },
  {
   "cell_type": "code",
   "execution_count": null,
   "metadata": {},
   "outputs": [],
   "source": []
  },
  {
   "cell_type": "markdown",
   "metadata": {},
   "source": [
    "# Task 2: Package Delivery Fee Calculator\n",
    "\n",
    "Topic: Delivery logistics\n",
    "Level: Medium\n",
    "Goal: Calculate shipping cost based on weight, destination zone, and priority.\n",
    "\n",
    " Prompt the user for package weight, destination zone (1–3), and priority (Y/N)\n",
    " Pricing rules:\n",
    " - Zone 1: $5 flat + $1 per kg\n",
    " - Zone 2: $10 flat + $1.5 per kg\n",
    " - Zone 3: $15 flat + $2 per kg\n",
    " - Priority: Add 50% surcharge\n",
    "```\n",
    "Example:\n",
    " Enter weight (kg): 10\n",
    " Enter destination zone (1-3): 2\n",
    " Priority shipping (Y/N): Y\n",
    " Output: Total shipping cost: $22.5\n",
    "```"
   ]
  },
  {
   "cell_type": "code",
   "execution_count": null,
   "metadata": {},
   "outputs": [],
   "source": []
  },
  {
   "cell_type": "markdown",
   "metadata": {},
   "source": [
    "# Task 3: Tax Bracket Calculator\n",
    "\n",
    "Topic: Finance\n",
    "Level: Medium\n",
    "Goal: Determine a person’s tax based on income brackets.\n",
    "\n",
    " Sample brackets:\n",
    " - < $10,000: 5%\n",
    " - $10,000–30,000: 10%\n",
    " - $30,001–100,000: 20%\n",
    " - $100,000: 30%\n",
    "```\n",
    "example:\n",
    "Input: Enter your annual income: \n",
    "Output: Your tax is $XYZ\n",
    "```"
   ]
  },
  {
   "cell_type": "markdown",
   "metadata": {},
   "source": [
    "# Task 4: Grocery Category Classifier — 🥫\n",
    "## 🧠 Question:\n",
    "Write a function classify_item(item: str) -> str that classifies a grocery item into: <br>\n",
    "- \"Fruit\" if it’s in a predefined list of fruits,\n",
    "- \"Vegetable\" if it’s in a list of vegetables,\n",
    "- or \"Unknown category\" otherwise.\n",
    "\n",
    "`Use if, elif, and else with the in operator.`"
   ]
  },
  {
   "cell_type": "markdown",
   "metadata": {},
   "source": [
    "# Task 5: Vehicle Type Checker — 🚗\n",
    "\n",
    "🧠 Question:\n",
    "\n",
    "Create a function get_vehicle_type(name: str) -> str that takes a vehicle name and returns:\n",
    "\n",
    "- \"Car\" if it’s in a list of car types,\n",
    "- \"Bike\" if it’s in a list of bike types,\n",
    "- or \"Unknown vehicle\" otherwise.\n",
    "\n",
    "`Make sure it works case-insensitively using .lower().`"
   ]
  },
  {
   "cell_type": "markdown",
   "metadata": {},
   "source": [
    "# Task 5: Game Access Rules — 🎮\n",
    "\n",
    "🧠 Question:\n",
    "\n",
    "Write a function check_game_access(user: str, banned_users: list, premium_users: list) -> str that returns:\n",
    "\n",
    "- \"Banned\" if the user is in the banned_users list,\n",
    "- \"Premium access\" if they are not banned and are in premium_users,\n",
    "- Otherwise, \"Standard access\".\n"
   ]
  },
  {
   "cell_type": "markdown",
   "metadata": {},
   "source": [
    "## Python Arithmetic Operators\n",
    "\n",
    "\" +  - / * \"\n",
    " \n",
    " and\n",
    "\n",
    " or\n",
    "\n",
    " in\n",
    "\n",
    " not in\n"
   ]
  },
  {
   "cell_type": "markdown",
   "metadata": {},
   "source": [
    "## input()"
   ]
  },
  {
   "cell_type": "code",
   "execution_count": null,
   "metadata": {},
   "outputs": [
    {
     "name": "stdout",
     "output_type": "stream",
     "text": [
      "my name is Hermann\n"
     ]
    }
   ],
   "source": [
    "x = input(\"what is your name? \")\n",
    "\n",
    "print(f\"my name is {x}\")\n",
    "\n",
    "print(\"my name is hermann\")"
   ]
  },
  {
   "cell_type": "markdown",
   "metadata": {},
   "source": [
    "## f string"
   ]
  },
  {
   "cell_type": "code",
   "execution_count": 10,
   "metadata": {},
   "outputs": [
    {
     "name": "stdout",
     "output_type": "stream",
     "text": [
      "4 x 2 = 8\n"
     ]
    }
   ],
   "source": [
    "x = input(\"what is your desire number? \")\n",
    "x = int(x)\n",
    "print(f\"{x} x 2 = {x *2}\")\n",
    "\n",
    "\n",
    "# 1 = int({x * 2})\n",
    "# 2  = {int(x) *2}\")"
   ]
  },
  {
   "cell_type": "code",
   "execution_count": 7,
   "metadata": {},
   "outputs": [
    {
     "name": "stdout",
     "output_type": "stream",
     "text": [
      "8\n"
     ]
    }
   ],
   "source": [
    "y = \"4\"\n",
    "y = int(y)\n",
    "print(y*2)"
   ]
  },
  {
   "cell_type": "markdown",
   "metadata": {},
   "source": [
    "## if, elif, else"
   ]
  },
  {
   "cell_type": "code",
   "execution_count": 15,
   "metadata": {},
   "outputs": [
    {
     "name": "stdout",
     "output_type": "stream",
     "text": [
      "yes\n"
     ]
    }
   ],
   "source": [
    "x = [1,2,3,4,5]\n",
    "y = 3\n",
    "z = 7\n",
    "\n",
    "if y in x or z in x:\n",
    "    print(\"yes\")\n",
    "else:\n",
    "    print(\"no\")"
   ]
  }
 ],
 "metadata": {
  "kernelspec": {
   "display_name": ".venv",
   "language": "python",
   "name": "python3"
  },
  "language_info": {
   "codemirror_mode": {
    "name": "ipython",
    "version": 3
   },
   "file_extension": ".py",
   "mimetype": "text/x-python",
   "name": "python",
   "nbconvert_exporter": "python",
   "pygments_lexer": "ipython3",
   "version": "3.13.2"
  }
 },
 "nbformat": 4,
 "nbformat_minor": 2
}
