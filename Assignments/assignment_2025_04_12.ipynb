{
 "cells": [
  {
   "cell_type": "markdown",
   "metadata": {},
   "source": [
    "# Task 1\n",
    "\n",
    "1. **step 1:**  Assign your favorite color, food, and month to three separate variables.\n",
    "2. **step 2:** Extract the first, second, and third characters from each of those variables and store them in new variables.\n",
    "3. **Step 3:** Using those characters, try to create 3 different words. The longer, the better!\n",
    "4. **Step 4:** For each word you create, print it and show how many characters it contains.\n",
    "\n",
    "### example:\n",
    "```\n",
    "my_fav_clr = \"blue\"\n",
    "my_fav_fod = \"pizza\"\n",
    "my_fav_mon = \"november\"\n",
    "\n",
    "my_fav_clr_1 = my_fav_clr[0]    b\n",
    "my_fav_clr_2 = my_fav_clr[1]    l\n",
    "my_fav_clr_3 = my_fav_clr[2]    u\n",
    "\n",
    "my_fav_fod_1 = my_fav_fod[0]    p\n",
    "my_fav_fod_2 = my_fav_fod[1]    i\n",
    "my_fav_fod_3 = my_fav_fod[2]    z\n",
    "\n",
    "my_fav_mon_1 = my_fav_mon[0]    n\n",
    "my_fav_mon_2 = my_fav_mon[1]    o\n",
    "my_fav_mon_3 = my_fav_mon[2]    v\n",
    "\n",
    "possible_words = [bin, up, pin, lip, plop]\n",
    "\n",
    "example_word_structure_1 = print(my_fav_clr_1, my_fav_fod_2, my_fav_mon_1)\n",
    "\n",
    "print(len(example_word_structure_1))\n",
    "```"
   ]
  },
  {
   "cell_type": "code",
   "execution_count": null,
   "metadata": {
    "vscode": {
     "languageId": "plaintext"
    }
   },
   "outputs": [],
   "source": []
  },
  {
   "cell_type": "markdown",
   "metadata": {},
   "source": [
    "# Task 2\n",
    "\n",
    "given:\n",
    "\n",
    "a = 2760<br>\n",
    "b = 841\n",
    "\n",
    "> Task:\n",
    "1. Calculate how many full times a fits into b. please remember i want a whole number not float. `hint` --> `print(int(result))`\n",
    "2. considering a and b values above if `x = b / 9` and `y = a x 0.07` , print the result of Z, if Z = $x^2 + 3y - \\frac{1}{2} + \\frac{x}{54}$\n",
    "\n",
    "any question? message me! 🤓\n"
   ]
  },
  {
   "cell_type": "code",
   "execution_count": null,
   "metadata": {
    "vscode": {
     "languageId": "plaintext"
    }
   },
   "outputs": [],
   "source": []
  },
  {
   "cell_type": "markdown",
   "metadata": {},
   "source": [
    "# Task 3\n",
    "\n",
    "Given:\n",
    "\n",
    "`a = \"Hello Python\"`\n",
    "\n",
    "> Print the following using indexing:\n",
    "1. The first character\n",
    "2. The last character\n",
    "3. The fourth character\n",
    "4. The second-to-last character\n",
    "\n",
    "💡 `Hint: Use text[0], text[-1], etc.`"
   ]
  },
  {
   "cell_type": "code",
   "execution_count": null,
   "metadata": {
    "vscode": {
     "languageId": "plaintext"
    }
   },
   "outputs": [],
   "source": []
  },
  {
   "cell_type": "markdown",
   "metadata": {},
   "source": [
    "# Task 4\n",
    "\n",
    "Given:\n",
    "\n",
    "`name = \"Alexnder\"`\n",
    "\n",
    "\n",
    "> Task:\n",
    "1. Print the first 3 characters\n",
    "2. Print the last 3 characters\n",
    "3. Print the entire name in reverse\n",
    "4. Print every second character"
   ]
  },
  {
   "cell_type": "code",
   "execution_count": null,
   "metadata": {
    "vscode": {
     "languageId": "plaintext"
    }
   },
   "outputs": [],
   "source": []
  },
  {
   "cell_type": "markdown",
   "metadata": {},
   "source": [
    "# Task 5\n",
    "\n",
    "Write your name using this sentence:\n",
    "\n",
    "`\"The quick brown fox jumps over the lazy dog.\"`\n"
   ]
  },
  {
   "cell_type": "code",
   "execution_count": null,
   "metadata": {
    "vscode": {
     "languageId": "plaintext"
    }
   },
   "outputs": [],
   "source": []
  }
 ],
 "metadata": {
  "language_info": {
   "name": "python"
  }
 },
 "nbformat": 4,
 "nbformat_minor": 2
}
