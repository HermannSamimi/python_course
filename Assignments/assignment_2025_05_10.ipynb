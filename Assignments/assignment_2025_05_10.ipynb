{
 "cells": [
  {
   "cell_type": "markdown",
   "metadata": {},
   "source": [
    "# Task 1: Number Abbreviation Converter 💼\n",
    "\n",
    "📘 Objective:\n",
    "\n",
    "Write a Python function that:\n",
    "1. Generates a random integer between 1 and 1,000,000,000,000.\n",
    "2. Converts it into a shortened human-readable format, using:\n",
    "\t- \"k\" for thousands (e.g. 1,200 → 1.2k)\n",
    "\t- \"m\" for millions (e.g. 4,897,250 → 4.8m)\n",
    "\t- \"b\" for billions (e.g. 1,000,000,000 → 1b)\n",
    "3.\tOnly show 1 decimal place for numbers that aren’t a clean cut (e.g. 123,456 → 123.4k), but no decimal if it’s exact (e.g. 300,000 → 300k).\n",
    "\n",
    "`💡 Hint: random.randint(1, 10000000000)`"
   ]
  },
  {
   "cell_type": "code",
   "execution_count": 27,
   "metadata": {},
   "outputs": [
    {
     "name": "stdout",
     "output_type": "stream",
     "text": [
      "1.0K\n"
     ]
    }
   ],
   "source": [
    "import random\n",
    "# 1\n",
    "# 10\n",
    "# 100\n",
    "# 1000 -> 1k - 4\n",
    "# 10,000 -> 10k - 5\n",
    "# 100,000 -> 100k - 6\n",
    "# 1,000,000 -> 1M - 7\n",
    "# 10,000,000 -> 10M       - 8\n",
    "# 100,000,000 -> 100M - 9\n",
    "# 1,000,000,000 -> 1B - 10\n",
    "# 10,000,000,000 -> 10B   - 11\n",
    "\n",
    "\n",
    "def format_number(a):\n",
    "    if len(str(a)) >= 4 and len(str(a)) <= 6:\n",
    "        print(f\"{round((a/1000), 1)}K\") \n",
    "    elif len(str(a)) >= 7 and len(str(a)) <= 9:\n",
    "        print(f\"{round((a/1000000), 1)}M\") \n",
    "    elif len(str(a)) >= 10 and len(str(a)) <= 12:\n",
    "        print(f\"{round((a/1000000000), 1)}B\")\n",
    "\n",
    "format_number(1000)\n"
   ]
  },
  {
   "cell_type": "markdown",
   "metadata": {},
   "source": [
    "# Task 2: Package Delivery Fee Calculator 📦\n",
    "\n",
    "Topic: Delivery logistics\n",
    "Level: Medium\n",
    "Goal: Calculate shipping cost based on weight, destination zone, and priority.\n",
    "\n",
    " Prompt the user for package weight, destination zone (1–3), and priority (Y/N)\n",
    " Pricing rules:\n",
    " - Zone 1: $5 flat + $1 per kg\n",
    " - Zone 2: $10 flat + $1.5 per kg\n",
    " - Zone 3: $15 flat + $2 per kg\n",
    " - Priority: Add 50% surcharge\n",
    "```\n",
    "Example:\n",
    " Enter weight (kg): 10\n",
    " Enter destination zone (1-3): 2\n",
    " Priority shipping (Y/N): Y\n",
    " Output: Total shipping cost: $22.5\n",
    "```"
   ]
  },
  {
   "cell_type": "code",
   "execution_count": null,
   "metadata": {},
   "outputs": [],
   "source": []
  },
  {
   "cell_type": "markdown",
   "metadata": {},
   "source": [
    "# Task 3: Tax Bracket Calculator 💰\n",
    "\n",
    "Topic: Finance\n",
    "Level: Medium\n",
    "Goal: Determine a person’s tax based on income brackets.\n",
    "\n",
    " Sample brackets:\n",
    " - < $10,000: 5%\n",
    " - $10,000–30,000: 10%\n",
    " - $30,001–100,000: 20%\n",
    " - $100,000: 30%\n",
    "```\n",
    "example:\n",
    "Input: Enter your annual income: \n",
    "Output: Your tax is $XYZ\n",
    "```"
   ]
  },
  {
   "cell_type": "code",
   "execution_count": 28,
   "metadata": {},
   "outputs": [
    {
     "name": "stdout",
     "output_type": "stream",
     "text": [
      "The tax value is 1000.0 if the income is 10000.\n"
     ]
    }
   ],
   "source": [
    "income = 10000\n",
    "\n",
    "def tax_cal (income: int):\n",
    "    if income >= 100000:\n",
    "        tax = income * 0.3\n",
    "    elif income >= 30000:\n",
    "        tax = income * 0.2\n",
    "    elif income >= 10000:\n",
    "        tax = income * 0.1\n",
    "    else:\n",
    "        tax = income*0.05\n",
    "    return tax\n",
    "tax_val = tax_cal(income)\n",
    "print(f\"The tax value is {tax_val} if the income is {income}.\")\n"
   ]
  },
  {
   "cell_type": "markdown",
   "metadata": {},
   "source": [
    "# Task 4: Grocery Category Classifier — 🥫 🍌 🍏\n",
    "## 🧠 Question:\n",
    "Write a function classify_item(item: str) -> str that classifies a grocery item into: <br>\n",
    "- \"Fruit\" if it’s in a predefined list of fruits,\n",
    "- \"Vegetable\" if it’s in a list of vegetables,\n",
    "- or \"Unknown category\" otherwise.\n",
    "\n",
    "`Use if, elif, and else with the in operator.`"
   ]
  },
  {
   "cell_type": "markdown",
   "metadata": {},
   "source": [
    "# Task 5: Vehicle Type Checker — 🚗 🏎️ 🚕\n",
    "\n",
    "🧠 Question:\n",
    "\n",
    "Create a function get_vehicle_type(name: str) -> str that takes a vehicle name and returns:\n",
    "\n",
    "- \"Car\" if it’s in a list of car types,\n",
    "- \"Bike\" if it’s in a list of bike types,\n",
    "- or \"Unknown vehicle\" otherwise.\n",
    "\n",
    "`Make sure it works case-insensitively using .lower().`"
   ]
  },
  {
   "cell_type": "markdown",
   "metadata": {},
   "source": [
    "# Task 6: Game Access Rules — 🎮\n",
    "\n",
    "🧠 Question:\n",
    "\n",
    "Write a function check_game_access(user: str, banned_users: list, premium_users: list) -> str that returns:\n",
    "\n",
    "- \"Banned\" if the user is in the banned_users list,\n",
    "- \"Premium access\" if they are not banned and are in premium_users,\n",
    "- Otherwise, \"Standard access\".\n"
   ]
  },
  {
   "cell_type": "markdown",
   "metadata": {},
   "source": [
    "# Task 7: Temperature Advisor 🌡️🧥\n",
    "\n",
    "🧠 Question:\n",
    "\n",
    "Write a function temperature_advice(temp: int, condition: str) -> str that gives clothing advice:\n",
    "- Temperature:\n",
    "    - If it’s below 5°C → \"Wear a heavy jacket\"\n",
    "    - If it’s between 5°C and 15°C → \"Wear a light jacket\"\n",
    "    - If it’s above 15°C:\n",
    "- Condition:\n",
    "    - If condition is \"sunny\" → \"T-shirt is fine\"\n",
    "    - If condition is \"rainy\" → \"T-shirt and umbrella\"\n",
    "    - If condition is \"cloudy\" → \"Take an umbrella\"\n",
    "\n",
    "`Use if/elif/else and string comparisons.`\n"
   ]
  },
  {
   "cell_type": "markdown",
   "metadata": {},
   "source": [
    "# Task 8: Promo Code Validator 💳📉\n",
    "\n",
    "🧠 Question:\n",
    "\n",
    "Write a function check_promo(code: str, used_codes: list) -> str that:\n",
    "- Returns \"Already used\" if the code is in the used_codes list\n",
    "- Returns \"Invalid code\" if the code doesn’t start with \"BLKFRI\"\n",
    "- Otherwise, returns \"Promo applied!\"\n",
    "\n",
    "```\n",
    "Use in, not in, .startswith(), and conditionals.\n",
    "promo code structure suggestion: BLKFRI-1234 or CHRIS-1234\n",
    "```\n"
   ]
  },
  {
   "cell_type": "markdown",
   "metadata": {},
   "source": [
    "# Task 9: School Bus Eligibility 🚌👦\n",
    "\n",
    "🧠 Question:\n",
    "\n",
    "Write a function `bus_eligibility(age: int, distance_km: float) -> str` that:\n",
    "- Returns \"Eligible for school bus\" if age < 12 and distance > 1 km\n",
    "- Returns \"Walk recommended\" if age < 12 and distance <= 1 km\n",
    "- Otherwise, returns \"Not eligible\"\n",
    "\n",
    "`Use logical operators (and) and conditionals.`"
   ]
  },
  {
   "cell_type": "code",
   "execution_count": 46,
   "metadata": {},
   "outputs": [
    {
     "name": "stdout",
     "output_type": "stream",
     "text": [
      "['HERMANN', 'jalal', 'ali', 'JAMES', 'david', 'JOHN', 'PETER', 'PAUL']\n",
      "['jalal', 'ali', 'david']\n",
      "['HERMANN', 'JAMES', 'JOHN', 'PETER', 'PAUL']\n"
     ]
    }
   ],
   "source": [
    "a = [1, 2, 3, 4, 5]\n",
    "b = []\n",
    "# print(a)\n",
    "# for i in a:\n",
    "#     sqr = i ** 2\n",
    "#     b.append(sqr)\n",
    "# print(b)\n",
    "\n",
    "\n",
    "names = ['HERMANN','jalal', 'ali', \"JAMES\",'david', \"JOHN\", \"PETER\", \"PAUL\"]\n",
    "\n",
    "# names.islower()\n",
    "# names.isupper()\n",
    "l_names = []\n",
    "u_names = []\n",
    "\n",
    "for i in names:\n",
    "    if i.isupper():\n",
    "        u_names.append(i)\n",
    "    else:\n",
    "        l_names.append(i)\n",
    "\n",
    "print(names)\n",
    "print(l_names)\n",
    "print(u_names)"
   ]
  },
  {
   "cell_type": "code",
   "execution_count": 36,
   "metadata": {},
   "outputs": [
    {
     "name": "stdout",
     "output_type": "stream",
     "text": [
      "0.5\n"
     ]
    }
   ],
   "source": [
    "a = 4.5 % 2\n",
    "print(a)"
   ]
  },
  {
   "cell_type": "code",
   "execution_count": 49,
   "metadata": {},
   "outputs": [
    {
     "name": "stdout",
     "output_type": "stream",
     "text": [
      "[1, 2, 3, 4, 5, 6, 7, 8, 9, 10, 11, 12, 13, 14, 15, 16, 17, 18, 19, 20]\n",
      "[5, 10, 15, 20]\n"
     ]
    }
   ],
   "source": [
    "numbers = [1,2,3,4,5,6,7,8,9,10,11,12,13,14,15,16,17,18,19,20]\n",
    "five = []\n",
    "\n",
    "for n in numbers:\n",
    "    if n % 5 == 0:\n",
    "        five.append(n)\n",
    "\n",
    "print(numbers)\n",
    "print(five)"
   ]
  },
  {
   "cell_type": "code",
   "execution_count": null,
   "metadata": {},
   "outputs": [],
   "source": [
    "my_students = [\n",
    "    {\"name\": \"John\", \"age\": 20, \"grade\": 85},\n",
    "    {\"name\": \"Jane\", \"age\": 22, \"grade\": 90},\n",
    "    {\"name\": \"Jim\", \"age\": 19, \"grade\": 78},\n",
    "    {\"name\": \"Jack\", \"age\": 21, \"grade\": 92},\n",
    "    {\"name\": \"Jill\", \"age\": 23, \"grade\": 88}\n",
    "]"
   ]
  }
 ],
 "metadata": {
  "kernelspec": {
   "display_name": ".venv",
   "language": "python",
   "name": "python3"
  },
  "language_info": {
   "codemirror_mode": {
    "name": "ipython",
    "version": 3
   },
   "file_extension": ".py",
   "mimetype": "text/x-python",
   "name": "python",
   "nbconvert_exporter": "python",
   "pygments_lexer": "ipython3",
   "version": "3.13.2"
  }
 },
 "nbformat": 4,
 "nbformat_minor": 2
}
