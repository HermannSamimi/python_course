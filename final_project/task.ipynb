{
 "cells": [
  {
   "cell_type": "markdown",
   "metadata": {},
   "source": [
    "1. Hermann will share an API related to food with you\n",
    "2. please create an app that sends messages every day at 8:00. and the message should be a random breakfast, lunch and dinner offer.\n",
    "3. omid is incharge of providing ingerients\n",
    "4. Nura is incharge of Nuts.\n",
    "5. i want you to create another app that by getting dish are, provide me 10 random recipes.(Chiness, Italian)"
   ]
  },
  {
   "cell_type": "code",
   "execution_count": null,
   "metadata": {},
   "outputs": [],
   "source": [
    "def dish(x):\n",
    "\n",
    "\n",
    "\n",
    "\n",
    "area = \"chinese\"\n",
    "\n",
    "dish(area)"
   ]
  }
 ],
 "metadata": {
  "language_info": {
   "name": "python"
  }
 },
 "nbformat": 4,
 "nbformat_minor": 2
}
