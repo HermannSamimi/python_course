{
 "cells": [
  {
   "cell_type": "code",
   "execution_count": 47,
   "metadata": {},
   "outputs": [],
   "source": [
    "\n",
    "statement = '''\n",
    "Let’s start with the question, how does one become an intellectual? Well, it often involves a lot of dedication to studying and research. If we don’t put the time in, we risk experiencing something psychologists call the Dunning-Kruger effect, a situation where people with limited knowledge of a given topic significantly overestimate their understanding. Unfortunately, the average person doesn’t have time to dedicate hours to research, which is why modern intellectuals are turning to an app called Blinkist.\n",
    "Even Apple recommends Blinkist for those who are lifelong learners, naming it one of the best apps in the world. Blinkist also appears to be one of the most important apps for everyday use with the new iPhone 16. With iPhone 16’s new features, Blinkist is now an even better experience for curious minds.\n",
    "At Blinkist, we gather the key insights from nonfiction books into 15 minute reads and listens. There are over 5,700 titles across 27 categories including entrepreneurship, management and leadership, and personal development.  \n",
    "More than 30 million people, among them Apple CEO Tim Cook and podcast host Joe Rogan, are now expanding their horizons with Blinkist. Tim Cook even stopped by the Blinkist office to get a glimpse of the hype, and the app is loved by everyone from The New York Times to Forbes.\n",
    "'''"
   ]
  },
  {
   "cell_type": "markdown",
   "metadata": {},
   "source": [
    "# Task 1\n",
    "Given the above text `statement`, extract 10 words as 10 variables and create 2 new sentences using those variables.\n",
    "\n",
    "> Rules:\n",
    "- Each word should be stored in a separate variable (e.g., word1, word2, …).\n",
    "- The first word in each sentence must be capitalized.\n",
    "> 💡 Hint:\n",
    "- Use `statement.find(\"word\")` to get its index.\n",
    "- Use find() to locate the position of each word in the string."
   ]
  },
  {
   "cell_type": "markdown",
   "metadata": {},
   "source": [
    "# Task 2\n",
    "count the number of `\"of\"` in the `statement` and add it to number of `\"are\"`.\n",
    "> 💡 Hint:\n",
    "- use count('of')"
   ]
  },
  {
   "cell_type": "markdown",
   "metadata": {},
   "source": [
    "# Task 3\n",
    "From `statement`, print:\n",
    "1. The total number of letters\n",
    "2. The total number of words\n",
    "3. The average word length\n",
    "    - The correct answer is aproximately `5.02` 🙂\n",
    "\n"
   ]
  },
  {
   "cell_type": "markdown",
   "metadata": {},
   "source": [
    "# Task 4\n",
    "1. Print every third word from `statement` below (💡 Hint -> try `statement[::3]`)\n",
    "2. Find the position of the word `\"age\"` in `statement` (💡 Hint -> `find()`)\n",
    "3. Extract the word `\"age\"` from the paragraph. (💡 Hint -> `slice()`)"
   ]
  },
  {
   "cell_type": "markdown",
   "metadata": {},
   "source": [
    "# task 5\n",
    "From `statement`, extract and print:\n",
    "1. The first word\n",
    "2. The last word\n",
    "3. The middle word (optional: only if the number of words is odd)\n",
    "\n",
    "> 💡 Hint:\n",
    "- Use `split()` and indexing."
   ]
  },
  {
   "cell_type": "markdown",
   "metadata": {},
   "source": [
    "# Task 6 (OPTIONAL)\n",
    "You are given the following letter-to-number assignments:\n",
    "\n",
    "a = 1\n",
    "\n",
    "b = 2\n",
    "\n",
    "c = 3\n",
    "\n",
    "d = 4\n",
    "\n",
    "e = 5\n",
    "\n",
    "f = 6\n",
    "\n",
    "g = 7\n",
    "\n",
    "h = 8\n",
    "\n",
    "i = 9\n",
    "\n",
    "j = 10\n",
    "\n",
    "k = 11\n",
    "\n",
    "l = 12\n",
    "\n",
    "m = 13\n",
    "\n",
    "n = 14\n",
    "\n",
    "o = 15\n",
    "\n",
    "p = 16\n",
    "\n",
    "q = 17\n",
    "\n",
    "r = 18\n",
    "\n",
    "s = 19\n",
    "\n",
    "t = 20\n",
    "\n",
    "u = 21\n",
    "\n",
    "v = 22\n",
    "\n",
    "w = 23\n",
    "\n",
    "x = 24\n",
    "\n",
    "y = 25\n",
    "\n",
    "z = 26\n",
    "\n",
    "\n",
    "###  🎯 Your Mission:\n",
    "Create a meaningful English word using only letters from the alphabet above, Using math operations (+, -, *, /), your goal is to combine the values of the letters to total exactly **10**.\n",
    "-  Write down:\n",
    "1. The word\n",
    "2. The equation showing how the letters add up to 10\n",
    "3. and the words index.\n",
    "\n",
    "\n",
    "> examples\n",
    " ```\n",
    " Word: \"cab\"\n",
    " c = 3, a = 1, b = 2\n",
    " c + a + b = 6 ❌ Try again!\n",
    "```\n",
    "```\n",
    "a + b + c + d = 10 → 1 + 2 + 3 + 4 = 10\n",
    "Word: \"abcd\" (not meaningful) ❌ Try again!\n",
    "```\n",
    "```\n",
    "\"fade\" → f(6) + a(1) + d(4) - e(5) = 6 + 1 + 4 - 5 = 6 ❌ Try again!\n",
    "```\n",
    "```\n",
    "\"bag\" →  b = 2, a = 1, g = 7 → 2 + 1 + 7 = 10 ✅\n",
    "\"age\" →  (g * a) + (e - a - a) = 7 * 1 + (5 - 1 - 1) = 7 + 3 = 10 ✅\n",
    "```"
   ]
  },
  {
   "cell_type": "code",
   "execution_count": null,
   "metadata": {},
   "outputs": [],
   "source": [
    "a = 1\n",
    "b = 2\n",
    "c = 3\n",
    "d = 4\n",
    "e = 5\n",
    "f = 6\n",
    "g = 7\n",
    "h = 8\n",
    "i = 9\n",
    "j = 10\n",
    "k = 11\n",
    "l = 12\n",
    "m = 13\n",
    "n = 14\n",
    "o = 15\n",
    "p = 16\n",
    "q = 17\n",
    "r = 18\n",
    "s = 19\n",
    "t = 20\n",
    "u = 21\n",
    "v = 22\n",
    "w = 23\n",
    "x = 24\n",
    "y = 25\n",
    "z = 26"
   ]
  }
 ],
 "metadata": {
  "kernelspec": {
   "display_name": ".venv",
   "language": "python",
   "name": "python3"
  },
  "language_info": {
   "codemirror_mode": {
    "name": "ipython",
    "version": 3
   },
   "file_extension": ".py",
   "mimetype": "text/x-python",
   "name": "python",
   "nbconvert_exporter": "python",
   "pygments_lexer": "ipython3",
   "version": "3.13.2"
  }
 },
 "nbformat": 4,
 "nbformat_minor": 2
}
